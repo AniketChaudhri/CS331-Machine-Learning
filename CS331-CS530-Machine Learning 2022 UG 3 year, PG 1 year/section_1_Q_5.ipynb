{
 "cells": [
  {
   "cell_type": "markdown",
   "id": "03a77f1d",
   "metadata": {},
   "source": [
    "### Unsupervised Labelling"
   ]
  },
  {
   "cell_type": "markdown",
   "id": "64c48cc3",
   "metadata": {},
   "source": [
    "**Import required libraries**"
   ]
  },
  {
   "cell_type": "code",
   "execution_count": 40,
   "id": "1cf7c61d",
   "metadata": {},
   "outputs": [],
   "source": [
    "import numpy as np\n",
    "import matplotlib.pyplot as plt\n"
   ]
  },
  {
   "cell_type": "code",
   "execution_count": 25,
   "id": "a2a24d77",
   "metadata": {},
   "outputs": [
    {
     "name": "stdout",
     "output_type": "stream",
     "text": [
      "0.1 0.8 0.102109498846473 0.8003189042847692\n"
     ]
    }
   ],
   "source": [
    "# Reference Used : \n",
    "#################################\n",
    "# author : Dr. Satyanath Bhat \n",
    "# filename : classdemo.py\n",
    "#################################\n",
    "\n",
    "\n",
    "import numpy as np\n",
    "\n",
    "ta = 0.1   # bias of coina\n",
    "tb = 0.8   # BIAS of coinb\n",
    "d = 10\n",
    "n= 3000     #total samples\n",
    "z = np.zeros(n) #hidden A =0 B=1\n",
    "x = np.zeros(n) #number of heads\n",
    "for i in range(n):\n",
    "    if np.random.uniform() <0.5:\n",
    "        x[i]  = np.random.binomial(d,ta)\n",
    "    else:\n",
    "        x[i]  = np.random.binomial(d,tb)\n",
    "        z[i]=1\n",
    "        \n",
    "## forget zs\n",
    "currAEst = 0.51 #beta or uniform choices are ok  \n",
    "currBEst = 0.534\n",
    "\n",
    "repeatcount = 1000  # instead of checking for convergence\n",
    "gammaiA = np.zeros(n)\n",
    "gammaiB = np.zeros(n)\n",
    "for i in range(repeatcount):\n",
    "    ## EStep starts\n",
    "    for j in range(n):\n",
    "        gammaiA[j] = 0.5* np.power(currAEst,x[j]) *np.power(1-currAEst,d-x[j]) \n",
    "        gammaiA[j] /= (0.5*np.power(currAEst,x[j]) *np.power(1-currAEst,d-x[j]) + 0.5* np.power(currBEst,x[j]) *np.power(1-currBEst,d-x[j]) )\n",
    "        gammaiB[j] = 1 - gammaiA[j]\n",
    "    numA = denA = numB = denB = 0\n",
    "    #Estep ends\n",
    "    \n",
    "    #MStep starts\n",
    "    for k in range(n):       \n",
    "        numA += gammaiA[k]*x[k]\n",
    "        numB += gammaiB[k]*x[k]\n",
    "        denA += gammaiA[k]*d\n",
    "        denB += gammaiB[k]*d\n",
    "    currAEst = numA/denA\n",
    "    currBEst = numB/denB\n",
    "    #Msteps ends\n",
    "\n",
    "print(ta,tb,currAEst,currBEst)"
   ]
  },
  {
   "cell_type": "code",
   "execution_count": 29,
   "id": "6b21d6bc",
   "metadata": {},
   "outputs": [
    {
     "name": "stdout",
     "output_type": "stream",
     "text": [
      "Error Rate : 0.266667  %\n"
     ]
    }
   ],
   "source": [
    "# classify each coin based on current estimate of biases\n",
    "\n",
    "classified_Z = []\n",
    "for i in range(len(x)): \n",
    "    p = x[i]/d \n",
    "    j = np.argmin([abs(currAEst-p), abs(currBEst-p)])\n",
    "    classified_Z.append(j*1.0)\n",
    "\n",
    "# Error rate \n",
    "Error  = [ 0 if classified_Z[i]==z[i] else  1 for i in range(n)]\n",
    "\n",
    "error_rate = ( sum(Error)/len(Error) )*100\n",
    "print(\"Error Rate : %f \"%error_rate,\"%\")"
   ]
  },
  {
   "cell_type": "markdown",
   "id": "49c24427",
   "metadata": {},
   "source": [
    "**Lets Simulate this experiment**"
   ]
  },
  {
   "cell_type": "code",
   "execution_count": 36,
   "id": "0da58c09",
   "metadata": {},
   "outputs": [],
   "source": [
    "# Reference Used : \n",
    "#################################\n",
    "# author : Dr. Satyanath Bhat \n",
    "# filename : classdemo.py\n",
    "#################################\n",
    "\n",
    "def one_experiment(ta = 0.1, tb = 0.8, d=10, n=3000):\n",
    "    z = np.zeros(n) #hidden A =0 B=1\n",
    "    x = np.zeros(n) #number of heads\n",
    "    for i in range(n):\n",
    "        if np.random.uniform() <0.5:\n",
    "            x[i]  = np.random.binomial(d,ta)\n",
    "        else:\n",
    "            x[i]  = np.random.binomial(d,tb)\n",
    "            z[i]=1\n",
    "\n",
    "    ## forget zs\n",
    "    currAEst = 0.51 #beta or uniform choices are ok  \n",
    "    currBEst = 0.534\n",
    "\n",
    "    repeatcount = 1000  # instead of checking for convergence\n",
    "    gammaiA = np.zeros(n)\n",
    "    gammaiB = np.zeros(n)\n",
    "    for i in range(repeatcount):\n",
    "        ## EStep starts\n",
    "        for j in range(n):\n",
    "            gammaiA[j] = 0.5* np.power(currAEst,x[j]) *np.power(1-currAEst,d-x[j]) \n",
    "            gammaiA[j] /= (0.5*np.power(currAEst,x[j]) *np.power(1-currAEst,d-x[j]) + 0.5* np.power(currBEst,x[j]) *np.power(1-currBEst,d-x[j]) )\n",
    "            gammaiB[j] = 1 - gammaiA[j]\n",
    "        numA = denA = numB = denB = 0\n",
    "        #Estep ends\n",
    "\n",
    "        #MStep starts\n",
    "        for k in range(n):       \n",
    "            numA += gammaiA[k]*x[k]\n",
    "            numB += gammaiB[k]*x[k]\n",
    "            denA += gammaiA[k]*d\n",
    "            denB += gammaiB[k]*d\n",
    "        currAEst = numA/denA\n",
    "        currBEst = numB/denB\n",
    "        #Msteps ends\n",
    "    \n",
    "    \n",
    "    # classify each coin based on current estimate of biases\n",
    "\n",
    "    classified_Z = []\n",
    "    for i in range(len(x)): \n",
    "        p = x[i]/d \n",
    "        j = np.argmin([abs(currAEst-p), abs(currBEst-p)])\n",
    "        classified_Z.append(j*1.0)\n",
    "\n",
    "    # Error rate \n",
    "    Error  = [ 0 if classified_Z[i]==z[i] else  1 for i in range(n)]\n",
    "\n",
    "    error_rate = ( sum(Error)/len(Error) )*100\n",
    "    return error_rate\n",
    "\n",
    "def n_experiments(ta = 0.1, tb = 0.8, d=10, n=3000): \n",
    "    errors = []\n",
    "    for i in range(20): \n",
    "        error = one_experiment(ta, tb, d, n)\n",
    "        errors.append(error)\n",
    "    return errors"
   ]
  },
  {
   "cell_type": "code",
   "execution_count": 37,
   "id": "33cdfa47",
   "metadata": {},
   "outputs": [],
   "source": [
    "ta = 0.1   # bias of coina\n",
    "tb = 0.8   # bias of coinb\n",
    "d = 10\n",
    "n= 3000     #total samples\n",
    "errors = n_experiments(ta,tb,d,n)"
   ]
  },
  {
   "cell_type": "code",
   "execution_count": 44,
   "id": "00ee02b4",
   "metadata": {},
   "outputs": [
    {
     "data": {
      "image/png": "[encoded data removed]",
      "text/plain": [
       "<Figure size 432x288 with 1 Axes>"
      ]
     },
     "metadata": {
      "needs_background": "light"
     },
     "output_type": "display_data"
    },
    {
     "name": "stdout",
     "output_type": "stream",
     "text": [
      "Average Error :  0.3966666666666666\n"
     ]
    }
   ],
   "source": [
    "plt.hist(errors,bins=3)\n",
    "plt.show()\n",
    "\n",
    "print(\"Average Error : \", np.mean(errors))"
   ]
  },
  {
   "cell_type": "code",
   "execution_count": null,
   "id": "44246b6f",
   "metadata": {},
   "outputs": [],
   "source": []
  }
 ],
 "metadata": {
  "kernelspec": {
   "display_name": "Python 3 (ipykernel)",
   "language": "python",
   "name": "python3"
  },
  "language_info": {
   "codemirror_mode": {
    "name": "ipython",
    "version": 3
   },
   "file_extension": ".py",
   "mimetype": "text/x-python",
   "name": "python",
   "nbconvert_exporter": "python",
   "pygments_lexer": "ipython3",
   "version": "3.9.7"
  }
 },
 "nbformat": 4,
 "nbformat_minor": 5
}
