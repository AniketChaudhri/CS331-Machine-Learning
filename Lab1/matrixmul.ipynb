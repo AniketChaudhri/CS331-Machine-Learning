{
 "cells": [
  {
   "cell_type": "markdown",
   "metadata": {},
   "source": [
    "## GroupID: AdAnSo\n",
    "\n",
    "Members:\n",
    "1. Adarsh Anand (2003101)\n",
    "2. Aniket Chaudhri (2003104)\n",
    "3. Somesh Agrawal (20033)\n"
   ]
  },
  {
   "cell_type": "code",
   "execution_count": 3,
   "metadata": {},
   "outputs": [],
   "source": [
    "# read A and B matrices from matrix1.txt and matrix2.txt\n",
    "# and write the result of A*B to matrix3.txt\n",
    "\n",
    "import numpy as np\n",
    "\n",
    "# read A and B matrices from matrix1.txt and matrix2.txt\n",
    "A = np.loadtxt('matrix1.txt')\n",
    "B = np.loadtxt('matrix2.txt')"
   ]
  },
  {
   "cell_type": "code",
   "execution_count": 4,
   "metadata": {},
   "outputs": [],
   "source": [
    "# python function to multiply matrices\n",
    "\n",
    "def matrixmul(A, B):\n",
    "    C = [[0 for i in range(len(B[0]))] for j in range(len(A))]\n",
    "    for i in range(len(A)):\n",
    "        for j in range(len(B[0])):\n",
    "            for k in range(len(B)):\n",
    "                C[i][j] += A[i][k] * B[k][j]\n",
    "    return C\n"
   ]
  },
  {
   "cell_type": "code",
   "execution_count": 2,
   "metadata": {},
   "outputs": [],
   "source": [
    "import numpy as np\n",
    "\n",
    "# numpy multiplication of 2 matrices\n",
    "\n",
    "def numpymatrixmul(A, B):\n",
    "    C = np.dot(A, B)\n",
    "    return C\n"
   ]
  },
  {
   "cell_type": "code",
   "execution_count": null,
   "metadata": {},
   "outputs": [],
   "source": [
    "print(matrixmul(A, B))"
   ]
  },
  {
   "cell_type": "code",
   "execution_count": 6,
   "metadata": {},
   "outputs": [
    {
     "name": "stdout",
     "output_type": "stream",
     "text": [
      "[[12286. 12105. 11232. ... 12579. 12516. 12567.]\n",
      " [13021. 12394. 12357. ... 12992. 12658. 13119.]\n",
      " [12122. 11965. 11626. ... 12145. 11974. 12258.]\n",
      " ...\n",
      " [12142. 12053. 11584. ... 12120. 11642. 12666.]\n",
      " [12559. 12105. 11900. ... 12551. 12105. 12946.]\n",
      " [12708. 12587. 12043. ... 12721. 12755. 12760.]]\n"
     ]
    }
   ],
   "source": [
    "print(numpymatrixmul(A, B))"
   ]
  }
 ],
 "metadata": {
  "kernelspec": {
   "display_name": "Python 3.9.7 ('base')",
   "language": "python",
   "name": "python3"
  },
  "language_info": {
   "codemirror_mode": {
    "name": "ipython",
    "version": 3
   },
   "file_extension": ".py",
   "mimetype": "text/x-python",
   "name": "python",
   "nbconvert_exporter": "python",
   "pygments_lexer": "ipython3",
   "version": "3.9.7"
  },
  "orig_nbformat": 4,
  "vscode": {
   "interpreter": {
    "hash": "c9ad9370ce2ecef06387107db2734bfae02630d0cbb3e97c4669866ddd473673"
   }
  }
 },
 "nbformat": 4,
 "nbformat_minor": 2
}
