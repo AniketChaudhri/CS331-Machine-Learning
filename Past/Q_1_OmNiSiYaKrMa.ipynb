{
 "cells": [
  {
   "cell_type": "markdown",
   "metadata": {
    "id": "IdsWUKAaqZoM"
   },
   "source": [
    "#### **Question 1** : **Credit Default Problem**\n",
    "Create a synthetic dataset  for the credit default problem. You may choose priors suitably. Generate 10^4 points from you model. Using the generated dataset evaluate <br>\n",
    "a) bayes classifier <br>\n",
    " b) classifier which has a randomization built in. "
   ]
  },
  {
   "cell_type": "code",
   "execution_count": null,
   "metadata": {
    "id": "rX_eRtFEqbO9"
   },
   "outputs": [],
   "source": [
    "import numpy as np\n",
    "\n",
    "# Create Synthetic Dataset\n",
    "\n",
    "mu_0 , mu_1 , sigma_0, sigma_1 = -1, 1, 1, 1\n",
    "p0 = 0.8\n",
    "p1 = 1 - p0\n",
    "\n",
    "# Input arguments : p0 = prior probability of being non-defaulter, N = sample size \n",
    "def create_dataset(N=10**4):\n",
    "    D = [] # Dataset list to store pairs (X_cur, y_cur)\n",
    "    Y = np.random.choice([0,1], size= N, p=[p0,p1]) \n",
    "    for y_cur in Y : \n",
    "      if y_cur == 0 : \n",
    "        X_cur = np.random.normal(loc=mu_0,scale=sigma_0, size=1)  # f0(X) ~ N(-1,1)\n",
    "        D.append([X_cur[0],y_cur])\n",
    "\n",
    "      if y_cur == 1 : \n",
    "        X_cur = np.random.normal(loc=mu_1, scale=sigma_1, size =1) # f1(X) ~ N(1,1)\n",
    "        D.append([X_cur[0],y_cur])\n",
    "    return D \n"
   ]
  },
  {
   "cell_type": "code",
   "execution_count": null,
   "metadata": {
    "id": "O-7Pv5Xxs8Zk"
   },
   "outputs": [],
   "source": []
  },
  {
   "cell_type": "code",
   "execution_count": null,
   "metadata": {
    "id": "_VYtcW5ntPQU"
   },
   "outputs": [],
   "source": [
    "# Part (a) - Bayes Classifier \n",
    "\n",
    "def f_0(X) : \n",
    "  return (1/( (2*np.pi)**0.5) * sigma_0)*np.exp( - (X - mu_0)**2/(2*sigma_0**2) )\n",
    "\n",
    "def f_1(X) : \n",
    "  return (1/( (2*np.pi)**0.5) * sigma_1)*np.exp( - (X - mu_1)**2/(2*sigma_1**2) )\n",
    "\n",
    "def q_0(X):\n",
    "  return p0*f_0(X)/(p0*f_0(X) + p1*f_1(X) )\n",
    "\n",
    "def q_1(X): \n",
    "  return p1*f_1(X)/( p0*f_0(X) + p1*f_1(X) )\n",
    "\n",
    "def bayes_classifier(X) : \n",
    "  return q_1(X) >= q_0(X) # element wise comparisions\n",
    "\n"
   ]
  },
  {
   "cell_type": "code",
   "execution_count": null,
   "metadata": {
    "id": "6p2NCo-ZSDFy"
   },
   "outputs": [],
   "source": []
  },
  {
   "cell_type": "code",
   "execution_count": null,
   "metadata": {
    "id": "DsLBY0FEto6F"
   },
   "outputs": [],
   "source": [
    "# Simulation of accuracy \n",
    "\n",
    "def one_simulation():\n",
    "  D = np.array(create_dataset())   \n",
    "  X = np.array([x[0] for x in D])\n",
    "  Y = np.array([x[1]==1 for x in D])\n",
    "  C = bayes_classifier(X)\n",
    "  accuracy = sum( [C[i] == Y[i] for i in range(len(C))])/ len(C)\n",
    "  return accuracy \n",
    "\n",
    "def n_simulations(N = 300) : \n",
    "  acc_list = []\n",
    "  for i in range(N):\n",
    "    acc_list.append( one_simulation() )\n",
    "  return acc_list\n",
    "acc_list = n_simulations()\n"
   ]
  },
  {
   "cell_type": "code",
   "execution_count": null,
   "metadata": {
    "colab": {
     "base_uri": "https://localhost:8080/",
     "height": 265
    },
    "id": "hXpTAI6R5ZcT",
    "outputId": "09bdaaaf-a272-4485-e460-be34f12dee88"
   },
   "outputs": [
    {
     "data": {
      "image/png": "[encoded data removed]",
      "text/plain": [
       "<Figure size 432x288 with 1 Axes>"
      ]
     },
     "metadata": {
      "needs_background": "light"
     },
     "output_type": "display_data"
    }
   ],
   "source": [
    "import matplotlib.pyplot as plt\n",
    "plt.hist(acc_list,bins=10)\n",
    "plt.show()"
   ]
  },
  {
   "cell_type": "code",
   "execution_count": null,
   "metadata": {
    "id": "6QX8RRrp5hqE"
   },
   "outputs": [],
   "source": [
    "# Part (b) # Random Classifier based on random variable Z denoting coin toss  with success probability q0 = p0\n",
    "\n",
    "# h_B(X,Z) = Z \n",
    "def random_classifier(X): \n",
    "  # coin toss Z \n",
    "  q0 = p0 # P(Z = 0) = P( Z = 'Head' ) = P( Z = 'Non-Defaulter' )\n",
    "  Z = np.random.choice([0,1],size=len(X),p=[q0,1-q0])\n",
    "  return Z"
   ]
  },
  {
   "cell_type": "code",
   "execution_count": null,
   "metadata": {
    "id": "miczQKU05p3f"
   },
   "outputs": [],
   "source": [
    "# Simulation of accuracy \n",
    "\n",
    "def one_simulation():\n",
    "  D = np.array(create_dataset())\n",
    "  X = np.array([x[0] for x in D])\n",
    "  Y = np.array([x[1] for x in D])\n",
    "  C = random_classifier(X)\n",
    "  accuracy = sum( [C[i] == Y[i] for i in range(len(C))])/ len(C)\n",
    "  return accuracy \n",
    "\n",
    "def n_simulations(N = 300) : \n",
    "  acc_list = []\n",
    "  for i in range(N):\n",
    "    acc_list.append( one_simulation() )\n",
    "  return acc_list\n",
    "acc_list = n_simulations()\n"
   ]
  },
  {
   "cell_type": "code",
   "execution_count": null,
   "metadata": {
    "colab": {
     "base_uri": "https://localhost:8080/",
     "height": 265
    },
    "id": "CTeK0eCEAhwQ",
    "outputId": "3e0e113d-4b51-4555-b93e-1bb4267608a4"
   },
   "outputs": [
    {
     "data": {
      "image/png": "[encoded data removed]",
      "text/plain": [
       "<Figure size 432x288 with 1 Axes>"
      ]
     },
     "metadata": {
      "needs_background": "light"
     },
     "output_type": "display_data"
    }
   ],
   "source": [
    "import matplotlib.pyplot as plt\n",
    "plt.hist(acc_list,bins=10)\n",
    "plt.show()"
   ]
  },
  {
   "cell_type": "code",
   "execution_count": null,
   "metadata": {
    "id": "4ZiuAjJ7AoDf"
   },
   "outputs": [],
   "source": []
  }
 ],
 "metadata": {
  "colab": {
   "collapsed_sections": [],
   "name": "Q-1_OmNiSiYaKrMa.ipynb",
   "provenance": []
  },
  "kernelspec": {
   "display_name": "Python 3 (ipykernel)",
   "language": "python",
   "name": "python3"
  },
  "language_info": {
   "codemirror_mode": {
    "name": "ipython",
    "version": 3
   },
   "file_extension": ".py",
   "mimetype": "text/x-python",
   "name": "python",
   "nbconvert_exporter": "python",
   "pygments_lexer": "ipython3",
   "version": "3.9.7"
  }
 },
 "nbformat": 4,
 "nbformat_minor": 1
}
