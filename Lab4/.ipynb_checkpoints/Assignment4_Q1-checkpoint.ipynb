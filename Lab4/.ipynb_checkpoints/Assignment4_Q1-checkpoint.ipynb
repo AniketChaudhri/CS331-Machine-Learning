{
 "cells": [
  {
   "cell_type": "code",
   "execution_count": 17,
   "id": "ee411370",
   "metadata": {},
   "outputs": [],
   "source": [
    "import numpy as np\n",
    "import pandas as pd\n",
    "import seaborn as sns\n",
    "import matplotlib.pyplot as plt\n",
    "import copy"
   ]
  },
  {
   "cell_type": "code",
   "execution_count": 13,
   "id": "cc8fb403",
   "metadata": {
    "scrolled": true
   },
   "outputs": [],
   "source": [
    "df = pd.read_csv('faithful.csv')\n",
    "df= df.drop('Unnamed: 0',axis=1)"
   ]
  },
  {
   "cell_type": "code",
   "execution_count": 12,
   "id": "43a91778",
   "metadata": {},
   "outputs": [
    {
     "data": {
      "image/png": "[encoded data removed]",
      "text/plain": [
       "<Figure size 432x288 with 1 Axes>"
      ]
     },
     "metadata": {
      "needs_background": "light"
     },
     "output_type": "display_data"
    }
   ],
   "source": [
    "plt.scatter(df['eruptions'],df['waiting'], c = 'blue', marker = 'o',label = 'Displaying points on a graph'  )\n",
    "plt.show()"
   ]
  },
  {
   "cell_type": "code",
   "execution_count": 40,
   "id": "6cdcff51",
   "metadata": {},
   "outputs": [],
   "source": [
    "N = df.shape[0]\n",
    "K = 2\n",
    "dim=2\n",
    "r = np.zeros((N, K))\n",
    "mu = np.zeros((K, dim), dtype=np.float64)"
   ]
  },
  {
   "cell_type": "code",
   "execution_count": 49,
   "id": "7c6c65d8",
   "metadata": {},
   "outputs": [],
   "source": [
    "def init():\n",
    "    global mu\n",
    "    np.random.seed(1000000)\n",
    "    for i in range(0, K):\n",
    "       j = np.random.randint(0, N)\n",
    "       mu[i,:] = df.iloc[j,:]"
   ]
  },
  {
   "cell_type": "code",
   "execution_count": 25,
   "id": "4332adbe",
   "metadata": {},
   "outputs": [],
   "source": [
    "def Estep(mu, r):\n",
    "    N = df.shape[0]\n",
    "    K = mu.shape[0]\n",
    "    for i in range(0, N):\n",
    "        dist = np.zeros(K)\n",
    "        for j in range(0, K):\n",
    "            dist[j] = np.linalg.norm(np.array(df.iloc[i]) - mu[j])\n",
    "        cluster = np.argmin(dist, axis=0)\n",
    "\n",
    "        r[i] = np.zeros(K)\n",
    "        r[i][cluster] = 1\n",
    "    return r"
   ]
  },
  {
   "cell_type": "code",
   "execution_count": 34,
   "id": "d27afd0c",
   "metadata": {},
   "outputs": [],
   "source": [
    "def Mstep(mu, r):\n",
    "    N = r.shape[0]\n",
    "    K = r.shape[1]\n",
    "    for j in range(0, K):\n",
    "        count=0\n",
    "        for i in range(N):\n",
    "            count= count+ r[i][j]\n",
    "        \n",
    "        temp = np.zeros(mu.shape[1])\n",
    "        for i in range(0, N):\n",
    "            if r[i][j] == 1:\n",
    "                temp += np.array(df.iloc[i])\n",
    "        \n",
    "        temp /= count\n",
    "        mu[j] = temp\n",
    "    return mu\n",
    "\n",
    "\n",
    "\n",
    "def AssignClusters(r):\n",
    "    N = r.shape[0]\n",
    "    clusters = np.zeros(N)\n",
    "    for i in range(0, N):\n",
    "        clusters[i] = np.where(r[i] == 1)[0][0]\n",
    "    clusters =  clusters.astype(np.int64)\n",
    "    return clusters"
   ]
  },
  {
   "cell_type": "code",
   "execution_count": 69,
   "id": "2bf995b9",
   "metadata": {},
   "outputs": [
    {
     "name": "stdout",
     "output_type": "stream",
     "text": [
      "[0]\n"
     ]
    }
   ],
   "source": [
    "print(np.where(r[200] == 1)[0])"
   ]
  },
  {
   "cell_type": "code",
   "execution_count": 29,
   "id": "15842ee0",
   "metadata": {},
   "outputs": [],
   "source": [
    "def CostFn(mu, r):\n",
    "    J = 0.0\n",
    "    N = r.shape[0]\n",
    "    for i in range(0, N):\n",
    "        xi = np.array(df.iloc[i])\n",
    "        clus_i = np.where(r[i] == 1)[0][0]\n",
    "        dist = np.linalg.norm(xi - mu[clus_i])\n",
    "        J += dist**2\n",
    "    return J"
   ]
  },
  {
   "cell_type": "code",
   "execution_count": 45,
   "id": "2a0fade8",
   "metadata": {},
   "outputs": [],
   "source": [
    "def fx(x,p1,p2):\n",
    "    return (p1[1]+p2[1])/2 - (x-(p1[0]+p2[0])/2)*((p2[0]-p1[0])/(p2[1]-p1[1]))"
   ]
  },
  {
   "cell_type": "code",
   "execution_count": null,
   "id": "f359057e",
   "metadata": {
    "scrolled": true
   },
   "outputs": [],
   "source": [
    "e = 10^(-6)\n",
    "prev_mu = np.zeros((K, 2))\n",
    "counter = 0\n",
    "J = []\n",
    "label_color=['r','b']\n",
    "init()\n",
    "while(np.linalg.norm(mu - prev_mu)>e):\n",
    "    prev_mu=copy.deepcopy(mu)\n",
    "    r = Estep(mu, r)\n",
    "    J.append(CostFn(mu, r))    \n",
    "    mu = Mstep(mu, r)\n",
    "    J.append(CostFn(mu, r))    \n",
    "\n",
    "    clusters = AssignClusters(r)\n",
    "    \n",
    "    plt.figure()\n",
    "    colormap = np.array(['r', 'g'])\n",
    "    plt.scatter(x=df['eruptions'], y=df['waiting'], c = colormap[clusters])\n",
    "    \n",
    "#     x = np.linspace(1.3,5)\n",
    "#     y=fx(x,mu[1,:],mu[1,:])\n",
    "#     plt.plot(x,y,label = ' random boundary')\n",
    "    \n",
    "    for i in range(0, K):\n",
    "        plt.plot(mu[i][0], mu[i][1], marker=\"x\",markersize=18, markeredgecolor=\"black\")\n",
    "    \n",
    "    counter= counter+1\n",
    "print(\"number of iterations required : %d\" %counter)\n"
   ]
  },
  {
   "cell_type": "code",
   "execution_count": 58,
   "id": "b7036998",
   "metadata": {},
   "outputs": [
    {
     "data": {
      "text/plain": [
       "[29093.63890099997, 10829.094209270334, 8992.735599758902, 8901.768720947211]"
      ]
     },
     "execution_count": 58,
     "metadata": {},
     "output_type": "execute_result"
    }
   ],
   "source": [
    "J"
   ]
  },
  {
   "cell_type": "code",
   "execution_count": 62,
   "id": "c2fed407",
   "metadata": {},
   "outputs": [
    {
     "data": {
      "image/png": "[encoded data removed]",
      "text/plain": [
       "<Figure size 432x288 with 1 Axes>"
      ]
     },
     "metadata": {
      "needs_background": "light"
     },
     "output_type": "display_data"
    }
   ],
   "source": [
    "plt.plot(range(2*counter),J)\n",
    "plt.title('Itr vs Cost Functions')\n",
    "plt.show()"
   ]
  },
  {
   "cell_type": "code",
   "execution_count": null,
   "id": "b2122ea1",
   "metadata": {},
   "outputs": [],
   "source": []
  },
  {
   "cell_type": "code",
   "execution_count": null,
   "id": "7373de38",
   "metadata": {},
   "outputs": [],
   "source": []
  }
 ],
 "metadata": {
  "kernelspec": {
   "display_name": "Python 3 (ipykernel)",
   "language": "python",
   "name": "python3"
  },
  "language_info": {
   "codemirror_mode": {
    "name": "ipython",
    "version": 3
   },
   "file_extension": ".py",
   "mimetype": "text/x-python",
   "name": "python",
   "nbconvert_exporter": "python",
   "pygments_lexer": "ipython3",
   "version": "3.9.13"
  }
 },
 "nbformat": 4,
 "nbformat_minor": 5
}
