{
 "cells": [
  {
   "cell_type": "markdown",
   "id": "c6f80e0f",
   "metadata": {},
   "source": [
    "<h1>TEAM NAME: ADANSO\n",
    "\n",
    "    \n",
    "<h3>Team Members:<br><br>\n",
    "1. Adarsh Anand <br>\n",
    "2. Aniket Chaudhri <br>\n",
    "3. Somesh Agrawal"
   ]
  },
  {
   "cell_type": "code",
   "execution_count": 1,
   "id": "8953ff91",
   "metadata": {},
   "outputs": [],
   "source": [
    "import numpy as np\n",
    "import pandas as pd\n",
    "import sklearn\n",
    "from sklearn.datasets import make_blobs\n",
    "from sklearn.model_selection import train_test_split\n",
    "import matplotlib.pyplot as plt\n",
    "import seaborn as sns"
   ]
  },
  {
   "cell_type": "code",
   "execution_count": 160,
   "id": "e2c53c38",
   "metadata": {},
   "outputs": [
    {
     "data": {
      "text/plain": [
       "<AxesSubplot:>"
      ]
     },
     "execution_count": 160,
     "metadata": {},
     "output_type": "execute_result"
    },
    {
     "data": {
      "image/png": "[encoded data removed]",
      "text/plain": [
       "<Figure size 432x288 with 1 Axes>"
      ]
     },
     "metadata": {
      "needs_background": "light"
     },
     "output_type": "display_data"
    }
   ],
   "source": [
    "X, Y = make_blobs(n_samples=100, n_features=3, centers=2)\n",
    "X[:,0] = 1\n",
    "sns.scatterplot(x=X[:,1], y=X[:,2], hue=Y)"
   ]
  },
  {
   "cell_type": "code",
   "execution_count": 161,
   "id": "f9353641",
   "metadata": {},
   "outputs": [],
   "source": [
    "x_train, x_test, y_train, y_test = train_test_split(X, Y, test_size=0.3, random_state=19)"
   ]
  },
  {
   "cell_type": "code",
   "execution_count": 162,
   "id": "363452ee",
   "metadata": {
    "scrolled": true
   },
   "outputs": [
    {
     "data": {
      "text/plain": [
       "array([[ 1.        ,  3.80941324,  6.9051334 ],\n",
       "       [ 1.        , -6.00480047,  0.94416502],\n",
       "       [ 1.        , -5.42478179,  0.85748731],\n",
       "       [ 1.        , -7.27916581, -0.67455494],\n",
       "       [ 1.        , -6.62916237,  1.35948467],\n",
       "       [ 1.        , -6.44072907,  2.31822966],\n",
       "       [ 1.        , -5.76102719,  1.31926807],\n",
       "       [ 1.        , -4.85494914,  0.58167163],\n",
       "       [ 1.        ,  3.10840137,  6.68472559],\n",
       "       [ 1.        , -5.07544448,  0.68775533],\n",
       "       [ 1.        ,  2.99806937,  4.50571664],\n",
       "       [ 1.        ,  3.07327677,  5.28160739],\n",
       "       [ 1.        , -6.52756661,  0.59855917],\n",
       "       [ 1.        , -5.61395426,  1.11750995],\n",
       "       [ 1.        ,  1.42827681,  6.16624375],\n",
       "       [ 1.        ,  0.79098093,  5.65827185],\n",
       "       [ 1.        , -4.95474547,  1.27676331],\n",
       "       [ 1.        ,  3.43597138,  4.14160819],\n",
       "       [ 1.        , -4.25119068,  1.94574508],\n",
       "       [ 1.        , -3.91894988,  2.38799755],\n",
       "       [ 1.        , -6.87971693,  0.49549942],\n",
       "       [ 1.        , -5.75873679,  1.16396022],\n",
       "       [ 1.        , -5.66327435,  3.05076983],\n",
       "       [ 1.        ,  2.06398111,  5.41264972],\n",
       "       [ 1.        , -6.49182113,  1.69970171],\n",
       "       [ 1.        ,  2.30932365,  6.21831872],\n",
       "       [ 1.        ,  3.00817994,  5.89110876],\n",
       "       [ 1.        , -7.05141492,  0.94417984],\n",
       "       [ 1.        , -4.81504572,  1.63579653],\n",
       "       [ 1.        ,  3.91540859,  6.83773588],\n",
       "       [ 1.        , -7.25847128,  1.91958367],\n",
       "       [ 1.        , -6.42006496, -0.09616671],\n",
       "       [ 1.        ,  2.81669006,  5.69213125],\n",
       "       [ 1.        ,  3.87608901,  5.32271672],\n",
       "       [ 1.        , -7.6325471 ,  1.58295954],\n",
       "       [ 1.        ,  3.17357946,  6.71279271],\n",
       "       [ 1.        ,  2.03529603,  5.84544567],\n",
       "       [ 1.        ,  2.26440836,  4.06059919],\n",
       "       [ 1.        ,  2.40701565,  5.0888223 ],\n",
       "       [ 1.        ,  3.56070482,  5.1821548 ],\n",
       "       [ 1.        , -5.92031202, -0.33348927],\n",
       "       [ 1.        , -5.0999285 ,  2.71604567],\n",
       "       [ 1.        ,  3.17006763,  4.02936759],\n",
       "       [ 1.        ,  3.2304172 ,  6.08758361],\n",
       "       [ 1.        , -5.23647609,  0.71490573],\n",
       "       [ 1.        ,  1.97935441,  5.19800288],\n",
       "       [ 1.        ,  1.58033423,  3.54884269],\n",
       "       [ 1.        ,  3.59435472,  5.85506181],\n",
       "       [ 1.        , -5.77386197,  1.04330928],\n",
       "       [ 1.        ,  3.29172296,  4.62840003],\n",
       "       [ 1.        ,  2.88119951,  5.34571382],\n",
       "       [ 1.        ,  2.57731558,  4.71964415],\n",
       "       [ 1.        ,  2.54526227,  5.87803397],\n",
       "       [ 1.        , -7.40834149,  1.82325936],\n",
       "       [ 1.        , -7.29201298,  1.50600979],\n",
       "       [ 1.        , -4.96292897,  1.53336376],\n",
       "       [ 1.        , -5.82610483, -0.83827121],\n",
       "       [ 1.        , -4.95133195, -1.28852328],\n",
       "       [ 1.        , -5.02046614,  1.33938174],\n",
       "       [ 1.        ,  3.15019523,  5.83347297],\n",
       "       [ 1.        ,  4.17096591,  7.01763505],\n",
       "       [ 1.        , -5.99240764,  1.74406297],\n",
       "       [ 1.        ,  2.67618612,  5.11475561],\n",
       "       [ 1.        , -4.48901114,  0.45754143],\n",
       "       [ 1.        , -7.79526561,  0.06812964],\n",
       "       [ 1.        ,  3.98741041,  5.32047689],\n",
       "       [ 1.        ,  1.85515459,  4.55709855],\n",
       "       [ 1.        ,  2.22974078,  5.14359803],\n",
       "       [ 1.        ,  1.98225859,  6.10463815],\n",
       "       [ 1.        ,  1.83293252,  5.76370455]])"
      ]
     },
     "execution_count": 162,
     "metadata": {},
     "output_type": "execute_result"
    }
   ],
   "source": [
    "x_train"
   ]
  },
  {
   "cell_type": "markdown",
   "id": "6f904ce1",
   "metadata": {},
   "source": [
    "1. Using the make blobs function in sklearn generate a dataset of 100 points with\n",
    "two classes. Implement Logistic regression with cross entropy loss\n",
    "2. Using the make blobs function in sklearn generate a dataset of 100 points with\n",
    "two classes. Implement Logistic regression with least mean square loss\n",
    "3. Compare the trajectory of gradient descent (batch) with both cross entropy loss\n",
    "and least mean square loss"
   ]
  },
  {
   "cell_type": "code",
   "execution_count": 163,
   "id": "df426aab",
   "metadata": {},
   "outputs": [],
   "source": [
    "def sigmoid(x):\n",
    "    s = 1/(1+np.exp(-x))\n",
    "    return s\n",
    "\n",
    "def cross_entropy_loss(y, y_pred):\n",
    "    loss = -np.sum(y*np.log(y_pred) + (1-y)*np.log(1-y_pred))\n",
    "    return loss\n",
    "\n",
    "def leastMeanSquare(y, y_pred):\n",
    "    loss = np.sum(np.square(y-y_pred))\n",
    "    return loss"
   ]
  },
  {
   "cell_type": "code",
   "execution_count": 164,
   "id": "b724e49b",
   "metadata": {},
   "outputs": [],
   "source": [
    "class LogisticRegression:\n",
    "    def __init__(self, learning_rate=0.01, tolerance = 0.0001):\n",
    "        self.learning_rate = learning_rate\n",
    "        self.tolerance = tolerance\n",
    "        self.weights = None\n",
    "    \n",
    "    def fit(self, X, y, learning_rate =  0.01):\n",
    "        m, n =  X.shape\n",
    "        w = np.random.rand(n, 1)\n",
    "        y = y.reshape(m, 1)\n",
    "        losses = []\n",
    "        pre_loss = cross_entropy_loss(y, sigmoid(np.dot(X, w)))\n",
    "        cur_loss = 0\n",
    "        counter=0\n",
    "\n",
    "\n",
    "        while abs(cur_loss - pre_loss) > self.tolerance:\n",
    "            pre_loss = cur_loss\n",
    "            y_pred = sigmoid(np.dot(X, w))\n",
    "            dw = np.dot(X.T, (y_pred-y))\n",
    "            w -= learning_rate*dw\n",
    "            cur_loss = cross_entropy_loss(y, sigmoid(np.dot(X, w)))\n",
    "            losses.append(cur_loss)\n",
    "            counter+=1\n",
    "\n",
    "        print(\"Number of iteration required: \",counter)\n",
    "        self.weights= w\n",
    "        return losses\n",
    "    \n",
    "    \n",
    "    def LMSfit(self, X, y, learning_rate =  0.01):\n",
    "        m, n =  X.shape\n",
    "        w = np.random.rand(n, 1)\n",
    "        y = y.reshape(m, 1)\n",
    "        losses = []\n",
    "        pre_loss = leastMeanSquare(y, sigmoid(np.dot(X, w)))\n",
    "        cur_loss = 0\n",
    "        counter=0\n",
    "\n",
    "\n",
    "        while abs(cur_loss - pre_loss) > self.tolerance:\n",
    "            pre_loss = cur_loss\n",
    "            y_pred = sigmoid(np.dot(X, w))\n",
    "            dw = np.dot(X.T, y_pred - y)*np.dot(y_pred.T, 1-y_pred)\n",
    "            w -= learning_rate*dw\n",
    "            cur_loss = leastMeanSquare(y, sigmoid(np.dot(X, w)))\n",
    "            losses.append(cur_loss)\n",
    "            counter+=1\n",
    "\n",
    "        print(\"Number of iteration required: \",counter)\n",
    "        self.weights= w\n",
    "        return losses\n",
    "    \n",
    "    def prediction(self, X):\n",
    "        pred = sigmoid(np.dot(X, self.weights))\n",
    "        y_pred = []\n",
    "        y_pred = [1 if i>0.5 else 0 for i in pred]\n",
    "        return y_pred\n",
    "    \n",
    "\n",
    "    def accuracy(self, y, y_pred):\n",
    "        correct = np.sum(y == y_pred) / len(y)\n",
    "        return correct*100"
   ]
  },
  {
   "cell_type": "code",
   "execution_count": 165,
   "id": "df13ce5f",
   "metadata": {},
   "outputs": [
    {
     "name": "stdout",
     "output_type": "stream",
     "text": [
      "Number of iteration required:  264\n",
      "Accuracy:  100.0\n"
     ]
    }
   ],
   "source": [
    "regression = LogisticRegression()\n",
    "lossArray = regression.fit(x_train,y_train)\n",
    "y_pred1 = regression.prediction(x_test)\n",
    "print(\"Accuracy: \",regression.accuracy(y_test, y_pred1))"
   ]
  },
  {
   "cell_type": "code",
   "execution_count": 166,
   "id": "5ff61a18",
   "metadata": {},
   "outputs": [
    {
     "data": {
      "image/png": "[encoded data removed]",
      "text/plain": [
       "<Figure size 432x288 with 1 Axes>"
      ]
     },
     "metadata": {
      "needs_background": "light"
     },
     "output_type": "display_data"
    }
   ],
   "source": [
    "plt.scatter(x_test[:,1], x_test[:,2], c=y_test)\n",
    "plt.show()"
   ]
  },
  {
   "cell_type": "code",
   "execution_count": 167,
   "id": "7ad649fa",
   "metadata": {},
   "outputs": [
    {
     "data": {
      "image/png": "[encoded data removed]",
      "text/plain": [
       "<Figure size 432x288 with 1 Axes>"
      ]
     },
     "metadata": {
      "needs_background": "light"
     },
     "output_type": "display_data"
    }
   ],
   "source": [
    "plt.scatter(x_test[:,1], x_test[:,2], c=y_pred1)\n",
    "plt.show()"
   ]
  },
  {
   "cell_type": "code",
   "execution_count": 168,
   "id": "8f7ec270",
   "metadata": {},
   "outputs": [
    {
     "data": {
      "image/png": "[encoded data removed]",
      "text/plain": [
       "<Figure size 432x288 with 1 Axes>"
      ]
     },
     "metadata": {
      "needs_background": "light"
     },
     "output_type": "display_data"
    }
   ],
   "source": [
    "plt.plot(lossArray)\n",
    "plt.show()"
   ]
  },
  {
   "cell_type": "markdown",
   "id": "1ee6552d",
   "metadata": {},
   "source": [
    "<h1> LMS Cost Function"
   ]
  },
  {
   "cell_type": "code",
   "execution_count": 169,
   "id": "93a4f2c6",
   "metadata": {},
   "outputs": [
    {
     "name": "stdout",
     "output_type": "stream",
     "text": [
      "Number of iteration required:  8\n",
      "Accuracy:  63.33333333333333\n"
     ]
    }
   ],
   "source": [
    "LMSregression = LogisticRegression()\n",
    "LMSlossArray = LMSregression.LMSfit(x_train,y_train)\n",
    "y_pred = LMSregression.prediction(x_test)\n",
    "print(\"Accuracy: \",LMSregression.accuracy(y_test, y_pred2))"
   ]
  },
  {
   "cell_type": "code",
   "execution_count": 170,
   "id": "c98d52aa",
   "metadata": {},
   "outputs": [
    {
     "data": {
      "image/png": "[encoded data removed]",
      "text/plain": [
       "<Figure size 432x288 with 1 Axes>"
      ]
     },
     "metadata": {
      "needs_background": "light"
     },
     "output_type": "display_data"
    }
   ],
   "source": [
    "plt.scatter(x_test[:,1], x_test[:,2], c=y_pred2)\n",
    "plt.show()"
   ]
  },
  {
   "cell_type": "code",
   "execution_count": 171,
   "id": "6beb4006",
   "metadata": {},
   "outputs": [
    {
     "data": {
      "text/plain": [
       "[<matplotlib.lines.Line2D at 0x271cb30f8b0>]"
      ]
     },
     "execution_count": 171,
     "metadata": {},
     "output_type": "execute_result"
    },
    {
     "data": {
      "image/png": "[encoded data removed]",
      "text/plain": [
       "<Figure size 432x288 with 1 Axes>"
      ]
     },
     "metadata": {
      "needs_background": "light"
     },
     "output_type": "display_data"
    }
   ],
   "source": [
    "plt.plot(LMSlossArray)"
   ]
  }
 ],
 "metadata": {
  "kernelspec": {
   "display_name": "Python 3 (ipykernel)",
   "language": "python",
   "name": "python3"
  },
  "language_info": {
   "codemirror_mode": {
    "name": "ipython",
    "version": 3
   },
   "file_extension": ".py",
   "mimetype": "text/x-python",
   "name": "python",
   "nbconvert_exporter": "python",
   "pygments_lexer": "ipython3",
   "version": "3.9.13"
  }
 },
 "nbformat": 4,
 "nbformat_minor": 5
}
