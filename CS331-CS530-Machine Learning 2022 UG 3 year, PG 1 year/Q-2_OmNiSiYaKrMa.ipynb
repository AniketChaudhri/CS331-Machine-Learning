{
 "cells": [
  {
   "cell_type": "markdown",
   "id": "845fdb25",
   "metadata": {},
   "source": [
    "### Question 2 -   Sklearn Handwritten Classifier using Naive Bayes Assumption"
   ]
  },
  {
   "cell_type": "code",
   "execution_count": 1,
   "id": "7f79e074",
   "metadata": {},
   "outputs": [],
   "source": [
    "# Import pandas library.\n",
    "import pandas as pd\n",
    "\n",
    "# Reading dataset.\n",
    "df = pd.read_csv(\"A_Z_Handwritten_Data.csv\")\n",
    "\n",
    "# print(df)"
   ]
  },
  {
   "cell_type": "code",
   "execution_count": 2,
   "id": "882b9070",
   "metadata": {},
   "outputs": [],
   "source": [
    "X = df.iloc[:,1:]\n",
    "X = X//128  \n",
    "# X\n",
    "\n",
    "Y = df.iloc[:,0]\n",
    "# Y"
   ]
  },
  {
   "cell_type": "code",
   "execution_count": 3,
   "id": "eeb35ddb",
   "metadata": {},
   "outputs": [],
   "source": [
    "from sklearn.model_selection import train_test_split\n",
    "\n",
    "# Split dataset into training dataset and test dataset\n",
    "X_train,X_test,y_train,y_test = train_test_split(X,Y,test_size=0.2)"
   ]
  },
  {
   "cell_type": "code",
   "execution_count": 4,
   "id": "cec41413",
   "metadata": {},
   "outputs": [],
   "source": [
    "# # Import Gaussian Naive Bayes model.\n",
    "# from sklearn.naive_bayes import GaussianNB\n",
    "\n",
    "# # Create a Gaussian Classifier.\n",
    "# gnb = GaussianNB()\n",
    "\n",
    "# # Train the model using the training data set.\n",
    "# gnb.fit(X_train, y_train)\n",
    "\n",
    "# # Predict the response for test dataset.\n",
    "# y_pred = gnb.predict(X_test)\n",
    "\n",
    "# # Accuracy : 51.14%"
   ]
  },
  {
   "cell_type": "code",
   "execution_count": 5,
   "id": "7156b7d2",
   "metadata": {},
   "outputs": [],
   "source": [
    "# Import Multinomial Naive Bayes model.\n",
    "from sklearn.naive_bayes import MultinomialNB\n",
    "\n",
    "# Create a Multinomial Classifier.\n",
    "clf = MultinomialNB()\n",
    "\n",
    "# Train the model using the training data set.\n",
    "clf.fit(X_train, y_train)\n",
    "\n",
    "# Predict the response using test dataset.\n",
    "y_pred = clf.predict(X_test)\n",
    "\n",
    "# Accuracy : 71.09%"
   ]
  },
  {
   "cell_type": "code",
   "execution_count": 6,
   "id": "67f37904",
   "metadata": {},
   "outputs": [],
   "source": [
    "# # Import Multinomial Naive Bayes model\n",
    "# from sklearn.naive_bayes import BernoulliNB\n",
    "\n",
    "# # Create a Bernoulli Classifier.\n",
    "# Br = BernoulliNB()\n",
    "\n",
    "# # Train the model using the training data set.\n",
    "# Br.fit(X_train, y_train)\n",
    "\n",
    "# # Predict the response using test dataset.\n",
    "# y_pred = Br.predict(X_test)\n",
    "\n",
    "# # Accuracy : 70.34%"
   ]
  },
  {
   "cell_type": "code",
   "execution_count": 7,
   "id": "7d66d04c",
   "metadata": {},
   "outputs": [
    {
     "name": "stdout",
     "output_type": "stream",
     "text": [
      "Accuracy:  0.7096791515639683\n"
     ]
    }
   ],
   "source": [
    "# Import metrics module for calculating accuracy.\n",
    "from sklearn import metrics\n",
    "\n",
    "# Printing accuracy.\n",
    "print(\"Accuracy: \",metrics.accuracy_score(y_test, y_pred))"
   ]
  },
  {
   "cell_type": "code",
   "execution_count": 8,
   "id": "dce21fae",
   "metadata": {},
   "outputs": [],
   "source": [
    "# Import confusion_matrix module for creating confusion matrix.\n",
    "from sklearn.metrics import confusion_matrix\n",
    "\n",
    "# Creating confusion matrix.\n",
    "conf_matrix = confusion_matrix(y_test, y_pred)"
   ]
  },
  {
   "cell_type": "code",
   "execution_count": 19,
   "id": "15bce2b2",
   "metadata": {},
   "outputs": [
    {
     "data": {
      "image/png": "[encoded data removed]",
      "text/plain": [
       "<Figure size 720x576 with 2 Axes>"
      ]
     },
     "metadata": {
      "needs_background": "light"
     },
     "output_type": "display_data"
    }
   ],
   "source": [
    "import numpy as np\n",
    "import matplotlib.pyplot as plt\n",
    "import seaborn as sns\n",
    "\n",
    "# Storing the confusion matrix in output.xlsx.\n",
    "cm = pd.DataFrame(conf_matrix)\n",
    "# df.to_excel(excel_writer = \"output.xlsx\")\n",
    "\n",
    "# Plot confusion matrix\n",
    "cm = np.array([ cm[i]/sum(cm[i]) for i in range(len(cm))])\n",
    "plt.figure( figsize=(10,8))\n",
    "sns.heatmap(cm, cmap='rainbow',cbar_kws={'label': 'class Accuracy '})\n",
    "plt.xlabel('True Label')\n",
    "plt.ylabel('Predicted Label')\n",
    "plt.show()"
   ]
  },
  {
   "cell_type": "code",
   "execution_count": 29,
   "id": "c59a220b",
   "metadata": {},
   "outputs": [],
   "source": [
    "# A = { y:{ key:0 for key in range()} for y in range(26)}\n",
    "# A"
   ]
  },
  {
   "cell_type": "code",
   "execution_count": 30,
   "id": "008d0d43",
   "metadata": {},
   "outputs": [],
   "source": [
    "# a = [ i for i in range(10)]\n",
    "# a"
   ]
  },
  {
   "cell_type": "code",
   "execution_count": null,
   "id": "47ee2ae6",
   "metadata": {},
   "outputs": [],
   "source": []
  }
 ],
 "metadata": {
  "kernelspec": {
   "display_name": "Python 3 (ipykernel)",
   "language": "python",
   "name": "python3"
  },
  "language_info": {
   "codemirror_mode": {
    "name": "ipython",
    "version": 3
   },
   "file_extension": ".py",
   "mimetype": "text/x-python",
   "name": "python",
   "nbconvert_exporter": "python",
   "pygments_lexer": "ipython3",
   "version": "3.9.7"
  }
 },
 "nbformat": 4,
 "nbformat_minor": 5
}
