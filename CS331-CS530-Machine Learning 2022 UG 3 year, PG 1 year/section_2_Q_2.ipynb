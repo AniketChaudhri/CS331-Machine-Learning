{
 "cells": [
  {
   "cell_type": "markdown",
   "id": "06baada8",
   "metadata": {},
   "source": [
    "### Bayes Classifier (Optimal) \n"
   ]
  },
  {
   "cell_type": "markdown",
   "id": "b5e952a6",
   "metadata": {},
   "source": [
    "\n",
    "P( $\\omega_{j}$ | X = x) = P(X = x | $\\omega_{j}$ ) * P( $\\omega_{j}$ ) / P(X=x) \n",
    "\n",
    "Given , $\\omega_{j}  \\in $  {0,1}  <br>\n",
    "        $ P( \\omega_{j} = 0) = 0.95$ <br>\n",
    "        **Posterior are normally distributed as :** <br>\n",
    "        $ P(X = x | \\omega_{j} = 0  )$ ~ <i>N</i>(0,1) <br>\n",
    "        $ P(X = x | \\omega_{j} = 1  )$ ~ <i>N</i>(1,1)\n",
    "\n",
    "#### (Optimal) Bayes Classifier under 0-1 loss function is one that choose class $ \\omega_{j} $ which maximizes posterior probability P( $\\omega_{j}$ | X = x)"
   ]
  },
  {
   "cell_type": "markdown",
   "id": "b26cc22f",
   "metadata": {},
   "source": [
    "**Import required libraries**"
   ]
  },
  {
   "cell_type": "code",
   "execution_count": 1,
   "id": "73c802da",
   "metadata": {},
   "outputs": [],
   "source": [
    "import numpy as np\n",
    "import matplotlib.pyplot as plt"
   ]
  },
  {
   "cell_type": "markdown",
   "id": "aeb1e763",
   "metadata": {},
   "source": [
    "**Fixed variables**"
   ]
  },
  {
   "cell_type": "code",
   "execution_count": 23,
   "id": "2aad47c5",
   "metadata": {},
   "outputs": [],
   "source": [
    "N = 10000\n",
    "p0 = 0.95 \n",
    "mu_0, mu_1 = 0., 1. \n",
    "var_0 = var_1 =  sigma = 1."
   ]
  },
  {
   "cell_type": "code",
   "execution_count": 3,
   "id": "c8ad4c3d",
   "metadata": {},
   "outputs": [],
   "source": [
    "def normal(mean, var, X): \n",
    "    return np.exp( -(X-mean)**2 / ( 2* var**2 ) )/ np.sqrt(2*np.pi*var)\n",
    "\n",
    "def prior(omega_j): \n",
    "    if omega_j == 0 : \n",
    "        return p0 \n",
    "    return (1 - p0)\n",
    "\n",
    "def class_conditional(X,omega_j): \n",
    "    if omega_j == 0 : \n",
    "        y = normal(mu_0,var_0,X)\n",
    "    else : \n",
    "        y = normal(mu_1,var_1,X)\n",
    "    return y\n",
    "\n",
    "def posterior_prob(X, omega_j) :\n",
    "    return class_conditional(X,omega_j)*prior(omega_j)\n",
    "\n",
    "def predict_class(X): \n",
    "    boolean = posterior_prob(X,1) > posterior_prob(X,0)\n",
    "    if boolean : \n",
    "        return 1 \n",
    "    return 0         "
   ]
  },
  {
   "cell_type": "code",
   "execution_count": 21,
   "id": "e22dee6e",
   "metadata": {},
   "outputs": [],
   "source": [
    "# Generate dummy data \n",
    "\n",
    "def one_simulation(): \n",
    "    global N \n",
    "    data = []\n",
    "    true_labels = []\n",
    "    for i in range(N): \n",
    "        label = np.random.choice([0,1], p=[p0,1-p0])\n",
    "        if label == 0 : \n",
    "            x = np.random.normal(mu_0,var_0)\n",
    "        else : \n",
    "            x = np.random.normal(mu_1, var_1)\n",
    "        data.append(x)\n",
    "        true_labels.append(label)\n",
    "\n",
    "    # Test our Classifier \n",
    "    pred_labels = []\n",
    "    for i in range(N): \n",
    "        pred = predict_class(data[i])\n",
    "        pred_labels.append(pred)\n",
    "    \n",
    "    # Q-1 False Positive FP\n",
    "    FP = [1 if ( pred_labels[i] == 0  and true_labels[i] == 1 ) else 0 for i in range(N)]\n",
    "    FP = sum(FP)\n",
    "    \n",
    "    # Q-2 True Positive TP\n",
    "    TP = [1 if (pred_labels[i] == 1 and true_labels[i]==1) else 0 for i in range(N) ]\n",
    "    TP = sum(TP)\n",
    "    \n",
    "    # Q-3 Accuracy\n",
    "    acc = [1. if pred_labels[i] == true_labels[i] else 0 for i in range(N)]\n",
    "    acc = sum(acc)/N\n",
    "    \n",
    "    return FP, TP, acc\n",
    "    \n",
    "def n_simulation(n): \n",
    "    res = [ [], [], []]\n",
    "    for i in range(n): \n",
    "        FP,TP,acc = one_simulation()\n",
    "        res[0].append(FP)\n",
    "        res[1].append(TP)\n",
    "        res[2].append(acc)\n",
    "    return np.array(res)\n",
    "\n",
    "    "
   ]
  },
  {
   "cell_type": "code",
   "execution_count": 22,
   "id": "568dadb7",
   "metadata": {},
   "outputs": [],
   "source": [
    "def find_scale(L): \n",
    "    scale = 0\n",
    "    minL = min([ e for e in L if e != 0] )\n",
    "    while True : \n",
    "        if minL < 1 : \n",
    "            break\n",
    "        scale += 1 \n",
    "        minL = minL/10\n",
    "    return scale"
   ]
  },
  {
   "cell_type": "code",
   "execution_count": 18,
   "id": "1c34ceba",
   "metadata": {},
   "outputs": [
    {
     "data": {
      "image/png": "[encoded data removed]",
      "text/plain": [
       "<Figure size 1080x360 with 3 Axes>"
      ]
     },
     "metadata": {
      "needs_background": "light"
     },
     "output_type": "display_data"
    },
    {
     "name": "stdout",
     "output_type": "stream",
     "text": [
      "False Positive FP in every 10000 samples : 499\n",
      "True  Positive TP in every 10000 samples : 4\n",
      "Accuracy : 0.949849\n"
     ]
    }
   ],
   "source": [
    "fig, axes = plt.subplots(nrows=1,ncols=3, figsize=(15,5))\n",
    "\n",
    "FP, TP, acc = n_simulation(100)\n",
    "\n",
    "fp_scale , tp_scale  = find_scale(FP)-1, find_scale(TP)-1\n",
    "FP = FP/(10**fp_scale)\n",
    "TP = TP/(10**tp_scale)\n",
    "\n",
    "axes[0].hist(FP)\n",
    "axes[0].set_xlabel(' $ x * 10^%d$'%fp_scale)\n",
    "axes[0].set_ylabel('FP frequency')\n",
    "\n",
    "\n",
    "axes[1].hist(TP)\n",
    "axes[1].set_xlabel(' $ x * 10^%d$'%tp_scale)\n",
    "axes[1].set_ylabel('TP frequency')\n",
    "\n",
    "axes[2].hist(acc)\n",
    "axes[2].set_xlabel('$ accuracy $ ')\n",
    "axes[2].set_ylabel('frequency')\n",
    "\n",
    "plt.show()\n",
    "\n",
    "FP = np.mean(FP)*(10**fp_scale)\n",
    "TP = np.mean(TP)*(10**tp_scale)\n",
    "acc_mean = np.mean(acc)\n",
    "print(f\"False Positive FP in every %d samples : %d\"%(N,round(FP)))\n",
    "print(f\"True  Positive TP in every %d samples : %d\"%(N,round(TP)))\n",
    "print(f\"Accuracy : %f\"%acc_mean)"
   ]
  },
  {
   "cell_type": "markdown",
   "id": "3f268ceb",
   "metadata": {},
   "source": [
    "### Neyman Pearson Classifier"
   ]
  },
  {
   "cell_type": "markdown",
   "id": "5fd7b49d",
   "metadata": {},
   "source": [
    "Threshold : $\\alpha$\n",
    "$$\n",
    "h_{NP}(X)\n",
    "= \n",
    "\\begin{cases}\n",
    "1 \\text{ if } f_{1}(X)/f_{0}(X) > K\\\\\n",
    "0  \\text{ otherwise} \n",
    "\\end{cases}\n",
    "$$\n",
    "\n",
    "where K is chosen s.t. \n",
    "\n",
    "$P(f_{1}(X)/f_{0}(X) <= K | X \\in C_0 ) = 1 - \\alpha$\n",
    "\n",
    "For binary classification problem where distribution are 1-D gaussian, on simplication we get $\\tau$ s.t. our classifier become this \n",
    "\n",
    "$$\n",
    "h_{NP}(X)\n",
    "= \n",
    "\\begin{cases}\n",
    "1 \\text{ if } X > \\tau \\\\\n",
    "0  \\text{ otherwise} \n",
    "\\end{cases}\n",
    "$$\n",
    "\n",
    "where $\\tau$ = $\\sigma * \\phi^{-1}(1 - \\alpha) + \\mu_{ 0} $\n",
    "\n",
    "\n"
   ]
  },
  {
   "cell_type": "markdown",
   "id": "0b494304",
   "metadata": {},
   "source": [
    "**Import required libraries**"
   ]
  },
  {
   "cell_type": "code",
   "execution_count": 24,
   "id": "0eb80b2f",
   "metadata": {},
   "outputs": [],
   "source": [
    "import numpy as np\n",
    "from scipy.stats import norm\n",
    "import matplotlib.pyplot as plt"
   ]
  },
  {
   "cell_type": "markdown",
   "id": "2f42e0ce",
   "metadata": {},
   "source": [
    "**Generate dataset**"
   ]
  },
  {
   "cell_type": "code",
   "execution_count": 25,
   "id": "1739595c",
   "metadata": {},
   "outputs": [],
   "source": [
    "# Global variables \n",
    "mu_0, mu_1 = 0, 1 \n",
    "var_0 = var_1 = sigma =  1\n",
    "p0 = 0.95\n",
    "N = 10000\n",
    "\n",
    "def generate_data() : \n",
    "    data = []\n",
    "    true_labels = []\n",
    "    for i in range(N): \n",
    "        z_i = np.random.choice([0,1],p=[p0,1-p0])\n",
    "        true_labels.append(z_i)\n",
    "        mu = mu_0 if z_i == 0 else mu_1\n",
    "        var = var_0 if z_i == 0 else var_1 \n",
    "        point = np.random.normal(mu,var)\n",
    "        data.append(point)\n",
    "    return data, true_labels"
   ]
  },
  {
   "cell_type": "code",
   "execution_count": 26,
   "id": "1c9bc65b",
   "metadata": {},
   "outputs": [],
   "source": [
    "def NP_classifier(tau):\n",
    "    \n",
    "    global N \n",
    "    \n",
    "    data, y_true = generate_data()\n",
    "    predictions = []\n",
    "    \n",
    "    for i in range(N): \n",
    "        X = data[i]\n",
    "        if X > tau : \n",
    "            predictions.append(1)  # class 1 \n",
    "        else : \n",
    "            predictions.append(0) # class 0 \n",
    "    \n",
    "    # Calculate Type I and Type II errors \n",
    "    \n",
    "    # Type-I : P(h_NP(X) = 1 | X ∈ C_0 )\n",
    "    num_type_1 = [1  for i in range(N)  if y_true[i]==0 and predictions[i]==1 ]\n",
    "    den_type_1 = [1 for i in range(N) if y_true[i]==0 ]\n",
    "    type_1 = sum(num_type_1)/sum(den_type_1)\n",
    "    \n",
    "    # Type-II : P(h_NP(X) = 0 | X ∈ C_1 )\n",
    "    num_type_2 = [1 for i in range(N) if y_true[i]==1 and predictions[i]==0]\n",
    "    den_type_2 = [1 for i in range(N) if y_true[i]==1]\n",
    "    type_2 = sum(num_type_2)/sum(den_type_2)\n",
    "    \n",
    "    return type_1, type_2"
   ]
  },
  {
   "cell_type": "code",
   "execution_count": 27,
   "id": "379708a5",
   "metadata": {},
   "outputs": [
    {
     "data": {
      "image/png": "[encoded data removed]",
      "text/plain": [
       "<Figure size 432x288 with 1 Axes>"
      ]
     },
     "metadata": {
      "needs_background": "light"
     },
     "output_type": "display_data"
    }
   ],
   "source": [
    "alphas = np.linspace(0,1,50)\n",
    "\n",
    "ROC = [ [], []]\n",
    "for alpha in alphas : \n",
    "    tau = sigma*norm.ppf(1 - alpha) + mu_0  # reference used : https://youtu.be/B1g4FN9eAuA?t=2957\n",
    "    type_1, type_2 = NP_classifier(tau)\n",
    "    ROC[0].append(type_1)\n",
    "    ROC[1].append(1-type_2)\n",
    "        \n",
    "plt.plot(ROC[0],ROC[1],linestyle=':')\n",
    "\n",
    "plt.title('NP - ROC curve')\n",
    "plt.xlabel('conditional type I error')\n",
    "plt.ylabel('1 - conditinal type II error')\n",
    "plt.show()\n"
   ]
  },
  {
   "cell_type": "markdown",
   "id": "9144a8cc",
   "metadata": {},
   "source": [
    "### Min Max Classifier "
   ]
  },
  {
   "cell_type": "markdown",
   "id": "bb4ba2b8",
   "metadata": {},
   "source": [
    "A min-max classifier is a classifier in which risk is made independent of priors by choosing suitable threshold $\\tau$\n",
    "\n",
    "Mathematically , In binary classification , such $\\tau$ will satisfy the follwing condition : \n",
    "\n",
    "$\\tau$ = $\\underset{t : t \\in R }{\\operatorname{argmin}}$ max P(error)\n",
    "\n",
    "on simplication we get $\\tau$ satisfies follwing condition\n",
    "\n",
    "$\\int_{\\tau}^\\inf f_{0}(x)dx$  = $\\int_{-\\inf}^\\tau f_{0}(x)dx$"
   ]
  },
  {
   "cell_type": "markdown",
   "id": "b0ea177e",
   "metadata": {},
   "source": [
    "**Import required libraries**"
   ]
  },
  {
   "cell_type": "code",
   "execution_count": 28,
   "id": "a09bdf7f",
   "metadata": {},
   "outputs": [],
   "source": [
    "import numpy as np\n",
    "from scipy.stats import norm\n",
    "import matplotlib.pyplot as plt"
   ]
  },
  {
   "cell_type": "code",
   "execution_count": 29,
   "id": "9826bece",
   "metadata": {},
   "outputs": [
    {
     "data": {
      "image/png": "[encoded data removed]",
      "text/plain": [
       "<Figure size 432x288 with 1 Axes>"
      ]
     },
     "metadata": {
      "needs_background": "light"
     },
     "output_type": "display_data"
    },
    {
     "name": "stdout",
     "output_type": "stream",
     "text": [
      "Optimal Tau : 1.246246\n"
     ]
    }
   ],
   "source": [
    "mu_0, mu_1 = 0, 1\n",
    "var_0 = var_1 = sigma = 1 \n",
    "\n",
    "taus = np.linspace(-2,2,1000)\n",
    "errors = []\n",
    "x = np.linspace(-5,5,1000)\n",
    "for tau in taus : \n",
    "    integral_1 = 1- norm.cdf(tau,mu_0,var_0)\n",
    "    integral_2 = norm.cdf(tau,mu_1, var_1)\n",
    "    diff = abs(integral_2 - integral_1)\n",
    "    errors.append(diff)\n",
    "\n",
    "\n",
    "plt.plot(x,errors)\n",
    "plt.ylabel('Diff. of integrals')\n",
    "plt.show()\n",
    "\n",
    "tau_opt = x[np.argmin(errors)]  # Optimal Tau\n",
    "print(\"Optimal Tau : %f\"%tau_opt)"
   ]
  },
  {
   "cell_type": "code",
   "execution_count": 30,
   "id": "ce1b5628",
   "metadata": {},
   "outputs": [],
   "source": [
    "# Make predictions \n",
    "\n",
    "def one_experiment() : \n",
    "    data, y_true = generate_data()\n",
    "    predictions = []\n",
    "    for i in range(N): \n",
    "        X = data[i]\n",
    "        if X > tau_opt : \n",
    "            predictions.append(1)  # class 1 \n",
    "        else : \n",
    "            predictions.append(0) # class 0 \n",
    "\n",
    "    accuracy = [ 1 if predictions[i] == y_true[i] else 0 for i in range(N)]\n",
    "    acc = sum(accuracy)/len(accuracy)*100\n",
    "    return acc \n",
    "\n",
    "def n_experiments(n):\n",
    "    acc_list = []\n",
    "    for i in range(n): \n",
    "        acc = one_experiment()\n",
    "        acc_list.append(acc)\n",
    "    return acc_list"
   ]
  },
  {
   "cell_type": "code",
   "execution_count": 31,
   "id": "3547bcc6",
   "metadata": {},
   "outputs": [
    {
     "data": {
      "image/png": "[encoded data removed]",
      "text/plain": [
       "<Figure size 432x288 with 1 Axes>"
      ]
     },
     "metadata": {
      "needs_background": "light"
     },
     "output_type": "display_data"
    }
   ],
   "source": [
    "acc_list = n_experiments(100)\n",
    "plt.xlabel('Accuracy')\n",
    "plt.hist(acc_list)\n",
    "plt.show()"
   ]
  }
 ],
 "metadata": {
  "kernelspec": {
   "display_name": "Python 3 (ipykernel)",
   "language": "python",
   "name": "python3"
  },
  "language_info": {
   "codemirror_mode": {
    "name": "ipython",
    "version": 3
   },
   "file_extension": ".py",
   "mimetype": "text/x-python",
   "name": "python",
   "nbconvert_exporter": "python",
   "pygments_lexer": "ipython3",
   "version": "3.9.7"
  }
 },
 "nbformat": 4,
 "nbformat_minor": 5
}
