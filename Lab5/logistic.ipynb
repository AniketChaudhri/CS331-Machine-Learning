{
 "cells": [
  {
   "cell_type": "code",
   "execution_count": 1,
   "metadata": {},
   "outputs": [],
   "source": [
    "from sklearn.datasets import make_blobs\n",
    "import matplotlib.pyplot as plt\n",
    "import numpy as np\n",
    "import math\n"
   ]
  },
  {
   "cell_type": "code",
   "execution_count": 17,
   "metadata": {},
   "outputs": [
    {
     "data": {
      "text/plain": [
       "<matplotlib.collections.PathCollection at 0x7ff1cc196cb0>"
      ]
     },
     "execution_count": 17,
     "metadata": {},
     "output_type": "execute_result"
    },
    {
     "data": {
      "image/png": "[encoded data removed]",
      "text/plain": [
       "<Figure size 640x480 with 1 Axes>"
      ]
     },
     "metadata": {},
     "output_type": "display_data"
    }
   ],
   "source": [
    "x, y = make_blobs(n_samples=100, centers=2, n_features=2, random_state=2)\n",
    "plt.scatter(x[:,0],x[:,1])"
   ]
  },
  {
   "cell_type": "code",
   "execution_count": 18,
   "metadata": {},
   "outputs": [],
   "source": [
    "# augment X with a column of ones\n",
    "X = np.hstack((np.ones((x.shape[0],1)),x))"
   ]
  },
  {
   "cell_type": "code",
   "execution_count": 34,
   "metadata": {},
   "outputs": [],
   "source": [
    "def exp(x):\n",
    "  try:\n",
    "    answer = math.exp(x)\n",
    "  except OverflowError:\n",
    "\t  answer = float('inf')\n",
    "  return answer\n"
   ]
  },
  {
   "cell_type": "code",
   "execution_count": 35,
   "metadata": {},
   "outputs": [],
   "source": [
    "def logistic(z):\n",
    "  if(exp((-1)*z) == float('inf')):\n",
    "    return 0.00001\n",
    "  else: return (1 + exp((-1)*z))**(-1)"
   ]
  },
  {
   "cell_type": "code",
   "execution_count": 30,
   "metadata": {},
   "outputs": [],
   "source": [
    "# cross entropy loss\n",
    "def crossEntropyLoss(w):\n",
    "    sum = 0\n",
    "    # y_pred = logistic(np.dot(w.T, X))\n",
    "    # return sum(y*math.log(y_pred) + (1 - y)*math.log(1 - y_pred + 1e-35))\n",
    "    \n",
    "    for i in range(100):\n",
    "        x = np.array(X[i,:]).reshape(-1,1)\n",
    "        y_pred = logistic(np.dot(w.T, x)[0])\n",
    "        sum += y[i]*math.log(y_pred) + (1 - y[i])*math.log(1 - y_pred + 1e-35)\n",
    "    return -sum"
   ]
  },
  {
   "cell_type": "code",
   "execution_count": 26,
   "metadata": {},
   "outputs": [],
   "source": [
    "# least mean square loss\n",
    "def leastMeanSquare(w):\n",
    "  sum = 0\n",
    "  for i in range(100):\n",
    "    X = np.array(X[i, :]).reshape(-1, 1)\n",
    "    sum += (y[i] - logistic((np.dot(w.T, X)[0])))**2\n",
    "  return sum\n"
   ]
  },
  {
   "cell_type": "code",
   "execution_count": 27,
   "metadata": {},
   "outputs": [],
   "source": [
    "# gradient vector\n",
    "def gradient(w):\n",
    "  sum = 0\n",
    "  \n",
    "  for i in range(100):\n",
    "    X = np.array(X[i, :]).reshape(-1, 1)\n",
    "    y_pred = logistic(np.dot(w.T, X)[0])\n",
    "    sum += (1-y_pred) * y[i]*X - (1 - y[i])*y_pred*X\n",
    "  return (-1)*sum\n"
   ]
  },
  {
   "cell_type": "code",
   "execution_count": 28,
   "metadata": {},
   "outputs": [],
   "source": [
    "# gradient vector for lms loss\n",
    "def gradient_lms(w):\n",
    "  # sum = 0\n",
    "  y_pred = logistic(np.dot(w.T, X))\n",
    "  # sum = 2*(y_pred - y) * y_pred*(1 - y_pred)*X\n",
    "  \n",
    "  # for i in range(100):\n",
    "  #   X = np.array(X[i, :]).reshape(-1, 1)\n",
    "  #   y_pred = logistic(np.dot(w.T, X)[0])\n",
    "  #   sum += 2*(y_pred - y[i]) * y_pred*(1 - y_pred)*X\n",
    "  return sum(2*(y_pred - y) * y_pred*(1 - y_pred)*X)\n"
   ]
  },
  {
   "cell_type": "code",
   "execution_count": 52,
   "metadata": {},
   "outputs": [
    {
     "name": "stdout",
     "output_type": "stream",
     "text": [
      "iter = 10, loss = 34.918535\n",
      "iter = 20, loss = 50.328476\n",
      "iter = 30, loss = 61.561609\n",
      "iter = 40, loss = 66.467446\n",
      "iter = 50, loss = 68.304340\n",
      "iter = 60, loss = 68.960280\n",
      "iter = 70, loss = 69.190873\n",
      "The optimal 'w' is: \n",
      "[[0.00027348]\n",
      " [0.00028142]\n",
      " [0.00030542]]\n",
      "The minimal loss is:\n",
      "69.2334318777295\n",
      "number of iterations required : 73\n"
     ]
    }
   ],
   "source": [
    "#Gradient descent algorithm with constant step size ( cross entropy)\n",
    "c = np.zeros((3,1))\n",
    "w_k1 = np.random.rand(3,1)                                         #initial values\n",
    "# w_k1 = np.array([6,5,-6]).reshape(-1,1)                                         #initial values\n",
    "w_k = c \n",
    "e = 10**(-2)\n",
    "iter = 0     \n",
    "likes = []\n",
    "last_val = 0                                                                               \n",
    "while(abs(last_val - np.linalg.norm(crossEntropyLoss(w_k1))) > e):                                             #stopping criteria\n",
    "   w_k = w_k1\n",
    "   last_val = np.linalg.norm(crossEntropyLoss(w_k1))\n",
    "   w_k1 = w_k1 - 0.1*(w_k)                                                     #constant step size              \n",
    "   iter = iter + 1 \n",
    "   if (iter%10==0):\n",
    "      print(\"iter = %d, loss = %f\" %(iter, last_val))\n",
    "   likes.append(last_val)                                                        #storing likelihood for plotting \n",
    "   \n",
    "print(\"The optimal 'w' is: \")\n",
    "print(w_k1)\n",
    "print(\"The minimal loss is:\")\n",
    "print(crossEntropyLoss(w_k1))\n",
    "print(\"number of iterations required : %d\" %iter)"
   ]
  },
  {
   "cell_type": "code",
   "execution_count": 12,
   "metadata": {},
   "outputs": [
    {
     "data": {
      "image/png": "[encoded data removed]",
      "text/plain": [
       "<Figure size 640x480 with 1 Axes>"
      ]
     },
     "metadata": {},
     "output_type": "display_data"
    }
   ],
   "source": [
    "# plot of classification of trained data\n",
    "def boundary(x, w):\n",
    "  return (-1)*(w[0] + w[1]*x)/w[2]  # defining boundary function\n",
    "\n",
    "\n",
    "class1 = []\n",
    "class2 = []  # classes\n",
    "for i in range(100):\n",
    "  if (y[i] == 1):\n",
    "    class1.append(X[i, 1:3])\n",
    "  else:\n",
    "    class2.append(X[i, 1:3])\n",
    "class1 = np.array(class1)\n",
    "plt.scatter(class1[:, 0], class1[:, 1], c='green',\n",
    "            marker='^', label='Points labelled with y = 1')\n",
    "class2 = np.array(class2)\n",
    "plt.scatter(class2[:, 0], class2[:, 1], c='red',\n",
    "            marker='o', label='Points labelled with y = -1')\n",
    "x = np.linspace(-6, 5)\n",
    "plt.plot(x, boundary(x, np.array(\n",
    "    [6, 5, -6]).reshape(-1, 1)), label='Initial random boundary')\n",
    "plt.plot(x, boundary(x, w_k1), label='Final boundary')\n",
    "plt.legend(bbox_to_anchor=(1.05, 0.8))\n",
    "plt.xlim(-5, 5)\n",
    "plt.ylim(-12, 4)\n",
    "plt.title(\"Training data with respective classes\")\n",
    "plt.show()\n"
   ]
  },
  {
   "cell_type": "code",
   "execution_count": 13,
   "metadata": {},
   "outputs": [
    {
     "ename": "KeyboardInterrupt",
     "evalue": "",
     "output_type": "error",
     "traceback": [
      "\u001b[0;31m---------------------------------------------------------------------------\u001b[0m",
      "\u001b[0;31mKeyboardInterrupt\u001b[0m                         Traceback (most recent call last)",
      "Cell \u001b[0;32mIn[13], line 8\u001b[0m\n\u001b[1;32m      6\u001b[0m \u001b[39miter\u001b[39m \u001b[39m=\u001b[39m \u001b[39m0\u001b[39m     \n\u001b[1;32m      7\u001b[0m likes \u001b[39m=\u001b[39m []                                                                                     \n\u001b[0;32m----> 8\u001b[0m \u001b[39mwhile\u001b[39;00m(np\u001b[39m.\u001b[39mlinalg\u001b[39m.\u001b[39mnorm(lms(w_k1)) \u001b[39m>\u001b[39m e):                                            \u001b[39m#stopping criteria\u001b[39;00m\n\u001b[1;32m      9\u001b[0m    w_k \u001b[39m=\u001b[39m w_k1\n\u001b[1;32m     10\u001b[0m    w_k1 \u001b[39m=\u001b[39m w_k1 \u001b[39m-\u001b[39m gradient_lms(w_k)                                               \u001b[39m#constant step size              \u001b[39;00m\n",
      "Cell \u001b[0;32mIn[8], line 6\u001b[0m, in \u001b[0;36mlms\u001b[0;34m(w)\u001b[0m\n\u001b[1;32m      4\u001b[0m \u001b[39mfor\u001b[39;00m i \u001b[39min\u001b[39;00m \u001b[39mrange\u001b[39m(\u001b[39m100\u001b[39m):\n\u001b[1;32m      5\u001b[0m   X \u001b[39m=\u001b[39m np\u001b[39m.\u001b[39marray(Aug_data[i,:])\u001b[39m.\u001b[39mreshape(\u001b[39m-\u001b[39m\u001b[39m1\u001b[39m,\u001b[39m1\u001b[39m)\n\u001b[0;32m----> 6\u001b[0m   \u001b[39msum\u001b[39m \u001b[39m=\u001b[39m \u001b[39msum\u001b[39m \u001b[39m+\u001b[39m (y[i] \u001b[39m-\u001b[39m logistic(((w\u001b[39m.\u001b[39mT)\u001b[39m@\u001b[39m X)[\u001b[39m0\u001b[39m]))\u001b[39m*\u001b[39m\u001b[39m*\u001b[39m\u001b[39m2\u001b[39m\n\u001b[1;32m      7\u001b[0m \u001b[39mreturn\u001b[39;00m \u001b[39msum\u001b[39m\n",
      "\u001b[0;31mKeyboardInterrupt\u001b[0m: "
     ]
    }
   ],
   "source": [
    "#Gradient descent algorithm with constant step size for lms loss \n",
    "c = np.zeros((3,1))\n",
    "w_k1 = np.array([10,10,1]).reshape(-1,1)                                         #initial values\n",
    "w_k = c \n",
    "e = 10**(-4)\n",
    "iter = 0     \n",
    "likes = []                                                                                     \n",
    "while(np.linalg.norm(leastMeanSquare(w_k1)) > e):                                            #stopping criteria\n",
    "   w_k = w_k1\n",
    "   w_k1 = w_k1 - gradient_lms(w_k)                                               #constant step size              \n",
    "   iter = iter + 1 \n",
    "   #likes.append(l(w_k1))                                                        #storing likelihood for plotting \n",
    "print(\"The optimal 'w' is: \")\n",
    "print(w_k1)\n",
    "print(\"The optimal likelihood is:\")\n",
    "print(leastMeanSquare(w_k1))\n",
    "print(\"number of iterations required : %d\" %iter)"
   ]
  },
  {
   "cell_type": "code",
   "execution_count": null,
   "metadata": {},
   "outputs": [],
   "source": [
    "# plot of classification of trained data\n",
    "def boundary(x, w):\n",
    "  return (-1)*(w[0] + w[1]*x)/w[2]  # defining boundary function\n",
    "\n",
    "\n",
    "class1 = []\n",
    "class2 = []  # classes\n",
    "for i in range(100):\n",
    "  if (y[i] == 1):\n",
    "    class1.append(Aug_data[i, 1:3])\n",
    "  else:\n",
    "    class2.append(Aug_data[i, 1:3])\n",
    "class1 = np.array(class1)\n",
    "plt.scatter(class1[:, 0], class1[:, 1], c='green',\n",
    "            marker='^', label='Points labelled with y = 1')\n",
    "class2 = np.array(class2)\n",
    "plt.scatter(class2[:, 0], class2[:, 1], c='red',\n",
    "            marker='o', label='Points labelled with y = -1')\n",
    "x = np.linspace(-6, 5)\n",
    "plt.plot(x, boundary(x, np.array(\n",
    "    [10, 10, 1]).reshape(-1, 1)), label='Initial random boundary')\n",
    "plt.plot(x, boundary(x, w_k1), label='Final boundary')\n",
    "plt.legend(bbox_to_anchor=(1.05, 0.8))\n",
    "plt.xlim(-5, 5)\n",
    "plt.ylim(-12, 4)\n",
    "plt.title(\"Training data with respective classes\")\n",
    "plt.show()\n"
   ]
  },
  {
   "cell_type": "code",
   "execution_count": null,
   "metadata": {},
   "outputs": [],
   "source": []
  }
 ],
 "metadata": {
  "kernelspec": {
   "display_name": "Python 3.10.9 ('cs331')",
   "language": "python",
   "name": "python3"
  },
  "language_info": {
   "codemirror_mode": {
    "name": "ipython",
    "version": 3
   },
   "file_extension": ".py",
   "mimetype": "text/x-python",
   "name": "python",
   "nbconvert_exporter": "python",
   "pygments_lexer": "ipython3",
   "version": "3.10.9"
  },
  "orig_nbformat": 4,
  "vscode": {
   "interpreter": {
    "hash": "f43d1047cbef59950c2f25d14b04d8a01f164d85880f1357fcf1ba55dd5a278d"
   }
  }
 },
 "nbformat": 4,
 "nbformat_minor": 2
}
