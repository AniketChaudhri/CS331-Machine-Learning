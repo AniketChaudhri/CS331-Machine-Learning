{
 "cells": [
  {
   "cell_type": "code",
   "execution_count": 1,
   "metadata": {
    "colab": {
     "base_uri": "https://localhost:8080/"
    },
    "id": "KOfFLpZN0E9l",
    "outputId": "7ba9406b-f282-48d3-ed5c-75fa5a1eb001"
   },
   "outputs": [
    {
     "name": "stdout",
     "output_type": "stream",
     "text": [
      "0.0937886435345734 0.7855902899639465\n"
     ]
    }
   ],
   "source": [
    "import numpy as np\n",
    "\n",
    "ta = 0.1   # bias of coina\n",
    "tb = 0.8   # BIAS of coinb\n",
    "\n",
    "d = 10\n",
    "n= 30     #total samples\n",
    "z = np.zeros(n) #hidden A =0 B=1\n",
    "x = np.zeros(n) #number of heads\n",
    "for i in range(n):\n",
    "    if np.random.uniform() <0.5:\n",
    "        x[i]  = np.random.binomial(d,ta)\n",
    "    else:\n",
    "        x[i]  = np.random.binomial(d,tb)\n",
    "        z[i]=1\n",
    "        \n",
    "## forget zs\n",
    "currAEst = 0.51 #beta or uniform choices are ok  \n",
    "currBEst = 0.534\n",
    "\n",
    "repeatcount = 1000  # instead of checking for convergence\n",
    "gammaiA = np.zeros(n)\n",
    "gammaiB = np.zeros(n)\n",
    "for i in range(repeatcount):\n",
    "    ## EStep starts\n",
    "    for j in range(n):\n",
    "        gammaiA[j] = 0.5* np.power(currAEst,x[j]) *np.power(1-currAEst,d-x[j]) \n",
    "        gammaiA[j] /= (0.5*np.power(currAEst,x[j]) *np.power(1-currAEst,d-x[j]) + 0.5* np.power(currBEst,x[j]) *np.power(1-currBEst,d-x[j]) )\n",
    "        gammaiB[j] = 1 - gammaiA[j]\n",
    "    numA = denA = numB = denB = 0\n",
    "    #Estep ends\n",
    "    \n",
    "    #MStep starts\n",
    "    for k in range(n):       \n",
    "        numA += gammaiA[k]*x[k]\n",
    "        numB += gammaiB[k]*x[k]\n",
    "        denA += gammaiA[k]*d\n",
    "        denB += gammaiB[k]*d\n",
    "    currAEst = numA/denA\n",
    "    currBEst = numB/denB\n",
    "    #Msteps ends\n",
    "\n",
    "print(currAEst,currBEst)"
   ]
  },
  {
   "cell_type": "code",
   "execution_count": 2,
   "metadata": {},
   "outputs": [],
   "source": [
    "y_pred=np.zeros(n)\n",
    "for i in range(n):\n",
    "    if gammaiA[i]>=gammaiB[i]:\n",
    "        y_pred[i]=0\n",
    "    else:\n",
    "        y_pred[i]=1"
   ]
  },
  {
   "cell_type": "code",
   "execution_count": 3,
   "metadata": {},
   "outputs": [
    {
     "data": {
      "text/plain": [
       "0.0"
      ]
     },
     "execution_count": 3,
     "metadata": {},
     "output_type": "execute_result"
    }
   ],
   "source": [
    "Perr= np.mean((y_pred!=z))\n",
    "Perr"
   ]
  },
  {
   "cell_type": "code",
   "execution_count": 4,
   "metadata": {},
   "outputs": [
    {
     "name": "stdout",
     "output_type": "stream",
     "text": [
      "Error Rate for this classifier: %d 0.0\n"
     ]
    }
   ],
   "source": [
    "print(\"Error Rate for this classifier: %d\",Perr)"
   ]
  }
 ],
 "metadata": {
  "colab": {
   "provenance": []
  },
  "kernelspec": {
   "display_name": "Python 3 (ipykernel)",
   "language": "python",
   "name": "python3"
  },
  "language_info": {
   "codemirror_mode": {
    "name": "ipython",
    "version": 3
   },
   "file_extension": ".py",
   "mimetype": "text/x-python",
   "name": "python",
   "nbconvert_exporter": "python",
   "pygments_lexer": "ipython3",
   "version": "3.8.3"
  }
 },
 "nbformat": 4,
 "nbformat_minor": 1
}
