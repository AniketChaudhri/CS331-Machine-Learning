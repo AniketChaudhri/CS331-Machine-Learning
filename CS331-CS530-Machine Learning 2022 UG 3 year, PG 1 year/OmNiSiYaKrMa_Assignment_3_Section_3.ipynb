{
 "cells": [
  {
   "cell_type": "markdown",
   "metadata": {},
   "source": [
    "**Import Required Libraries**"
   ]
  },
  {
   "cell_type": "code",
   "execution_count": 2,
   "metadata": {
    "id": "48mtIvGmsQNV"
   },
   "outputs": [],
   "source": [
    "from sklearn.datasets import make_blobs\n",
    "import matplotlib.pyplot as plt\n",
    "import numpy as np\n",
    "import math"
   ]
  },
  {
   "cell_type": "markdown",
   "metadata": {},
   "source": [
    "**Read and Transform Data**"
   ]
  },
  {
   "cell_type": "code",
   "execution_count": 3,
   "metadata": {
    "id": "Tn3rohWGsopk"
   },
   "outputs": [
    {
     "data": {
      "text/plain": [
       "<matplotlib.collections.PathCollection at 0x2399bf15580>"
      ]
     },
     "execution_count": 3,
     "metadata": {},
     "output_type": "execute_result"
    },
    {
     "data": {
      "image/png": "[encoded data removed]",
      "text/plain": [
       "<Figure size 432x288 with 1 Axes>"
      ]
     },
     "metadata": {
      "needs_background": "light"
     },
     "output_type": "display_data"
    }
   ],
   "source": [
    "X, y = make_blobs(n_samples=100, centers=2, n_features=2, random_state=2)\n",
    "plt.scatter(X[:,0],X[:,1])"
   ]
  },
  {
   "cell_type": "code",
   "execution_count": 4,
   "metadata": {
    "colab": {
     "base_uri": "https://localhost:8080/",
     "height": 282
    },
    "id": "snQujHdoteX_",
    "outputId": "d573a246-f51e-4e6d-9a85-741691fb8f11"
   },
   "outputs": [],
   "source": [
    "#augmenting column of 1's (corresponding to bias term) in data\n",
    "Aug_data = np.ones((100,3))\n",
    "Aug_data[:,1:3] = X"
   ]
  },
  {
   "cell_type": "markdown",
   "metadata": {},
   "source": [
    "---"
   ]
  },
  {
   "cell_type": "markdown",
   "metadata": {},
   "source": [
    "**User Defined Functions**"
   ]
  },
  {
   "cell_type": "code",
   "execution_count": 11,
   "metadata": {
    "id": "Et1AJNh5zG_3"
   },
   "outputs": [],
   "source": [
    "#Defining exponential function because math.exp gives overflow error sometimes\n",
    "def exp(x):\n",
    "  try:\n",
    "    answer=math.exp(x)\n",
    "  except OverflowError:\n",
    "\t  answer = float('inf')\n",
    "  return answer"
   ]
  },
  {
   "cell_type": "code",
   "execution_count": 12,
   "metadata": {
    "id": "nOKUTmfczlt2"
   },
   "outputs": [],
   "source": [
    "#logistic function\n",
    "def logistic(a):\n",
    "  if(exp((-1)*a) == float('inf')):\n",
    "    return 0.00001\n",
    "  else: return (1 + exp((-1)*a))**(-1)"
   ]
  },
  {
   "cell_type": "code",
   "execution_count": 13,
   "metadata": {
    "id": "j4hA3fsCzpFz"
   },
   "outputs": [],
   "source": [
    "#cross entropy loss\n",
    "def l(w):\n",
    "  sum = 0\n",
    "  for i in range(100):\n",
    "    X = np.array(Aug_data[i,:]).reshape(-1,1)\n",
    "    #print(logistic(((w.T)@ X)[0]))\n",
    "    sum = sum + y[i]*math.log(logistic(((w.T)@ X)[0])) + (1 - y[i])*math.log(1 - logistic(((w.T)@ X)[0]) + 1e-40)\n",
    "  return (-1)*sum"
   ]
  },
  {
   "cell_type": "code",
   "execution_count": 14,
   "metadata": {
    "id": "7FH0SOCvq04e"
   },
   "outputs": [],
   "source": [
    "#least mean square loss\n",
    "def lms(w):\n",
    "  sum = 0\n",
    "  for i in range(100):\n",
    "    X = np.array(Aug_data[i,:]).reshape(-1,1)\n",
    "    sum = sum + (y[i] - logistic(((w.T)@ X)[0]))**2\n",
    "  return sum"
   ]
  },
  {
   "cell_type": "code",
   "execution_count": 15,
   "metadata": {
    "id": "k-Ye8JlJ1poO"
   },
   "outputs": [],
   "source": [
    "#gradient vector\n",
    "def gradient(w):\n",
    "  sum = 0\n",
    "  for i in range(100):\n",
    "    X = np.array(Aug_data[i,:]).reshape(-1,1)\n",
    "    sum = sum + (1-logistic((((w.T)@ X))[0]))*y[i]*X - (1 - y[i])*logistic(((w.T)@ X)[0])*X\n",
    "  return (-1)*sum"
   ]
  },
  {
   "cell_type": "code",
   "execution_count": 16,
   "metadata": {
    "id": "cHFk4mWp1EQ-"
   },
   "outputs": [],
   "source": [
    "#gradient vector for lms loss \n",
    "def gradient_lms(w):\n",
    "  sum = 0\n",
    "  for i in range(100):\n",
    "    X = np.array(Aug_data[i,:]).reshape(-1,1)\n",
    "    sum = sum + 2*(logistic(((w.T)@ X)[0]) - y[i])*logistic(((w.T)@ X)[0])*(1 - logistic(((w.T)@ X)[0]))*X\n",
    "  return sum"
   ]
  },
  {
   "cell_type": "code",
   "execution_count": 17,
   "metadata": {
    "id": "_lcHZuvrCIoI"
   },
   "outputs": [],
   "source": [
    "#descent direction vector for gradient descent in cross entropy\n",
    "def d_k(w):\n",
    "  return((-1)*(gradient(w)))"
   ]
  },
  {
   "cell_type": "markdown",
   "metadata": {},
   "source": [
    "----"
   ]
  },
  {
   "cell_type": "markdown",
   "metadata": {},
   "source": [
    "**Gradient Descent Algorithm with Constant Step Size and Cross Entropy Loss Function**"
   ]
  },
  {
   "cell_type": "code",
   "execution_count": 18,
   "metadata": {
    "colab": {
     "base_uri": "https://localhost:8080/"
    },
    "id": "2tOh3K02COYQ",
    "outputId": "f9b19d86-7e3f-42af-b70f-94cff5b3d72f"
   },
   "outputs": [
    {
     "name": "stdout",
     "output_type": "stream",
     "text": [
      "The optimal 'w' is: \n",
      "[[1043.67114026]\n",
      " [1006.30202839]\n",
      " [ 138.2425806 ]]\n",
      "The minimal loss is:\n",
      "0.00044627310268291134\n",
      "number of iterations required : 49\n"
     ]
    }
   ],
   "source": [
    "#Gradient descent algorithm with constant step size ( cross entropy)\n",
    "c = np.zeros((3,1))\n",
    "w_k1 = np.array([6,5,-6]).reshape(-1,1)                                         #initial values\n",
    "w_k = c \n",
    "e = 10**(-2)\n",
    "iter = 0     \n",
    "likes = []                                                                                     \n",
    "while(np.linalg.norm(l(w_k1)) > e):                                             #stopping criteria\n",
    "   w_k = w_k1\n",
    "   w_k1 = w_k1 + 5*d_k(w_k)                                                     #constant step size              \n",
    "   iter = iter + 1 \n",
    "   likes.append(l(w_k1))                                                        #storing likelihood for plotting \n",
    "print(\"The optimal 'w' is: \")\n",
    "print(w_k1)\n",
    "print(\"The minimal loss is:\")\n",
    "print(l(w_k1))\n",
    "print(\"number of iterations required : %d\" %iter)"
   ]
  },
  {
   "cell_type": "markdown",
   "metadata": {},
   "source": [
    "**Plotting Seperating Hyperplane**"
   ]
  },
  {
   "cell_type": "code",
   "execution_count": 13,
   "metadata": {
    "colab": {
     "base_uri": "https://localhost:8080/",
     "height": 281
    },
    "id": "3UVTCgdQDuTU",
    "outputId": "c84f967c-d4e5-4e3a-f19f-1a6c6c23cc3a"
   },
   "outputs": [
    {
     "data": {
      "image/png": "[encoded data removed]",
      "text/plain": [
       "<Figure size 432x288 with 1 Axes>"
      ]
     },
     "metadata": {
      "needs_background": "light"
     },
     "output_type": "display_data"
    }
   ],
   "source": [
    "#plot of classification of trained data\n",
    "def boundary(x,w):\n",
    "  return (-1)*(w[0] + w[1]*x)/w[2]                                              #defining boundary function\n",
    "class1 = []\n",
    "class2 = []                                                                     #classes\n",
    "for i in range(100):\n",
    "  if(y[i] == 1): class1.append(Aug_data[i,1:3])\n",
    "  else: class2.append(Aug_data[i,1:3])\n",
    "class1 = np.array(class1)\n",
    "plt.scatter(class1[:,0],class1[:,1], c = 'green', marker = '^',label = 'Points labelled with y = 1')\n",
    "class2 = np.array(class2)\n",
    "plt.scatter(class2[:,0],class2[:,1], c = 'red', marker = 'o',label = 'Points labelled with y = -1')\n",
    "x = np.linspace(-6,5)\n",
    "plt.plot(x,boundary(x,np.array([6,5,-6]).reshape(-1,1)),label = 'Initial random boundary')\n",
    "plt.plot(x,boundary(x,w_k1),label = 'Final boundary')\n",
    "plt.legend(bbox_to_anchor=(1.05,0.8))\n",
    "plt.xlim(-5,5)\n",
    "plt.ylim(-12,4)\n",
    "plt.title(\"Training data with respective classes\")\n",
    "plt.show()"
   ]
  },
  {
   "cell_type": "markdown",
   "metadata": {},
   "source": [
    "----"
   ]
  },
  {
   "cell_type": "markdown",
   "metadata": {},
   "source": [
    "**Gradient Descent Algorithm with Constant Step Size with Least Mean Square (LMS) loss**"
   ]
  },
  {
   "cell_type": "code",
   "execution_count": 20,
   "metadata": {
    "colab": {
     "base_uri": "https://localhost:8080/"
    },
    "id": "DIR26p1X4ad7",
    "outputId": "d44dbf78-8a93-46ec-aca8-9e86471d6066"
   },
   "outputs": [
    {
     "name": "stdout",
     "output_type": "stream",
     "text": [
      "The optimal 'w' is: \n",
      "[[17.21022776]\n",
      " [ 5.54866633]\n",
      " [ 2.77403986]]\n",
      "The optimal likelihood is:\n",
      "9.998754738585733e-05\n",
      "number of iterations required : 7550\n"
     ]
    }
   ],
   "source": [
    "#Gradient descent algorithm with constant step size for lms loss \n",
    "c = np.zeros((3,1))\n",
    "w_k1 = np.array([10,10,1]).reshape(-1,1)                                         #initial values\n",
    "w_k = c \n",
    "e = 10**(-4)\n",
    "iter = 0     \n",
    "likes = []                                                                                     \n",
    "while(np.linalg.norm(lms(w_k1)) > e):                                            #stopping criteria\n",
    "   w_k = w_k1\n",
    "   w_k1 = w_k1 - gradient_lms(w_k)                                               #constant step size              \n",
    "   iter = iter + 1 \n",
    "   #likes.append(l(w_k1))                                                        #storing likelihood for plotting \n",
    "print(\"The optimal 'w' is: \")\n",
    "print(w_k1)\n",
    "print(\"The optimal likelihood is:\")\n",
    "print(lms(w_k1))\n",
    "print(\"number of iterations required : %d\" %iter)"
   ]
  },
  {
   "cell_type": "code",
   "execution_count": 21,
   "metadata": {
    "colab": {
     "base_uri": "https://localhost:8080/",
     "height": 281
    },
    "id": "3tx-jNcA_qUy",
    "outputId": "57e81641-5aee-4917-b1e2-b7d64119164d"
   },
   "outputs": [
    {
     "data": {
      "image/png": "[encoded data removed]",
      "text/plain": [
       "<Figure size 432x288 with 1 Axes>"
      ]
     },
     "metadata": {
      "needs_background": "light"
     },
     "output_type": "display_data"
    }
   ],
   "source": [
    "#plot of classification of trained data\n",
    "def boundary(x,w):\n",
    "  return (-1)*(w[0] + w[1]*x)/w[2]                                              #defining boundary function\n",
    "class1 = []\n",
    "class2 = []                                                                     #classes\n",
    "for i in range(100):\n",
    "  if(y[i] == 1): class1.append(Aug_data[i,1:3])\n",
    "  else: class2.append(Aug_data[i,1:3])\n",
    "class1 = np.array(class1)\n",
    "plt.scatter(class1[:,0],class1[:,1], c = 'green', marker = '^',label = 'Points labelled with y = 1')\n",
    "class2 = np.array(class2)\n",
    "plt.scatter(class2[:,0],class2[:,1], c = 'red', marker = 'o',label = 'Points labelled with y = -1')\n",
    "x = np.linspace(-6,5)\n",
    "plt.plot(x,boundary(x,np.array([10,10,1]).reshape(-1,1)),label = 'Initial random boundary')\n",
    "plt.plot(x,boundary(x,w_k1),label = 'Final boundary')\n",
    "plt.legend(bbox_to_anchor=(1.05,0.8))\n",
    "plt.xlim(-5,5)\n",
    "plt.ylim(-12,4)\n",
    "plt.title(\"Training data with respective classes\")\n",
    "plt.show()"
   ]
  },
  {
   "cell_type": "markdown",
   "metadata": {},
   "source": [
    "----"
   ]
  }
 ],
 "metadata": {
  "colab": {
   "collapsed_sections": [],
   "name": "OmNiSiYaKrMa_Assignment 3_sec 3.ipynb",
   "provenance": []
  },
  "kernelspec": {
   "display_name": "Python 3 (ipykernel)",
   "language": "python",
   "name": "python3"
  },
  "language_info": {
   "codemirror_mode": {
    "name": "ipython",
    "version": 3
   },
   "file_extension": ".py",
   "mimetype": "text/x-python",
   "name": "python",
   "nbconvert_exporter": "python",
   "pygments_lexer": "ipython3",
   "version": "3.9.7"
  }
 },
 "nbformat": 4,
 "nbformat_minor": 1
}
